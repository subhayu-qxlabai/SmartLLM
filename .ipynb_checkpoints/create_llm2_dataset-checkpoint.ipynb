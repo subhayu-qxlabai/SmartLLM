{
 "cells": [
  {
   "cell_type": "code",
   "execution_count": 1,
   "id": "66806a22-7dfb-4b15-959f-6a44d8278b8b",
   "metadata": {},
   "outputs": [],
   "source": [
    "from dataset_gen.smart_llm import step_input_generator, step_output_generator\n",
    "from pathlib import Path\n",
    "import json\n",
    "import pandas as pd"
   ]
  },
  {
   "cell_type": "code",
   "execution_count": 2,
   "id": "6b2a3b5d-1c9c-4752-a498-061b4786c3a3",
   "metadata": {},
   "outputs": [],
   "source": [
    "directory_path = Path(\"eval_dataset_for_evaluation_metric\")\n",
    "new_csv_path = directory_path / \"newly_updated_eval_test_run_11042024230243.csv\"\n",
    "\n",
    "# step_input=step_input_generator.generate()"
   ]
  },
  {
   "cell_type": "code",
   "execution_count": 3,
   "id": "cab6f35c-52f9-48ef-a9e4-d7f4876eb321",
   "metadata": {},
   "outputs": [],
   "source": [
    "df = pd.read_csv(new_csv_path,sep='|')"
   ]
  },
  {
   "cell_type": "code",
   "execution_count": 4,
   "id": "88f9358a-7027-48d2-90eb-e48ecf6a5c8c",
   "metadata": {},
   "outputs": [],
   "source": [
    "step_input=step_input_generator.StepInputGenerator()\n",
    "step_output=step_output_generator.StepOutputGenerator()"
   ]
  },
  {
   "cell_type": "code",
   "execution_count": 5,
   "id": "4ad649fe-a257-41a5-aa44-658e01e2c097",
   "metadata": {},
   "outputs": [],
   "source": [
    "llms2_json = directory_path / \"llm2_eval_dataset.json\""
   ]
  },
  {
   "cell_type": "code",
   "execution_count": 6,
   "id": "47756f89-5eb2-406c-8d75-690b2f496ea7",
   "metadata": {},
   "outputs": [],
   "source": [
    "def llm2_input(value):\n",
    "    # print(python_input)\n",
    "    step_input_result=step_input.generate(value)\n",
    "    return json.dumps(step_input_result)"
   ]
  },
  {
   "cell_type": "code",
   "execution_count": 7,
   "id": "31f23092-576c-4c1c-93d9-3e0a7501132e",
   "metadata": {},
   "outputs": [],
   "source": [
    "new_df = df[['actual_output']].copy()"
   ]
  },
  {
   "cell_type": "code",
   "execution_count": 8,
   "id": "82bf9e3a-47df-43ed-b6b1-bcaabd519ad2",
   "metadata": {},
   "outputs": [
    {
     "name": "stdout",
     "output_type": "stream",
     "text": [
      "<class 'str'>\n"
     ]
    }
   ],
   "source": [
    "print(type(new_df[\"actual_output\"][0]))"
   ]
  },
  {
   "cell_type": "code",
   "execution_count": 9,
   "id": "6baafa62-8f26-4eea-b82e-a2a39bfcfc3d",
   "metadata": {},
   "outputs": [
    {
     "data": {
      "text/html": [
       "<div>\n",
       "<style scoped>\n",
       "    .dataframe tbody tr th:only-of-type {\n",
       "        vertical-align: middle;\n",
       "    }\n",
       "\n",
       "    .dataframe tbody tr th {\n",
       "        vertical-align: top;\n",
       "    }\n",
       "\n",
       "    .dataframe thead th {\n",
       "        text-align: right;\n",
       "    }\n",
       "</style>\n",
       "<table border=\"1\" class=\"dataframe\">\n",
       "  <thead>\n",
       "    <tr style=\"text-align: right;\">\n",
       "      <th></th>\n",
       "      <th>actual_output</th>\n",
       "    </tr>\n",
       "  </thead>\n",
       "  <tbody>\n",
       "    <tr>\n",
       "      <th>0</th>\n",
       "      <td>{\"question\":\"What are the latest electric vehi...</td>\n",
       "    </tr>\n",
       "    <tr>\n",
       "      <th>1</th>\n",
       "      <td>{\"question\":\"Which countries currently offer i...</td>\n",
       "    </tr>\n",
       "    <tr>\n",
       "      <th>2</th>\n",
       "      <td>{\"question\":\"How do electric vehicle incentive...</td>\n",
       "    </tr>\n",
       "    <tr>\n",
       "      <th>3</th>\n",
       "      <td>{\"question\":\"What is the maximum federal tax c...</td>\n",
       "    </tr>\n",
       "    <tr>\n",
       "      <th>4</th>\n",
       "      <td>{\"question\":\"Are there any new electric vehicl...</td>\n",
       "    </tr>\n",
       "    <tr>\n",
       "      <th>...</th>\n",
       "      <td>...</td>\n",
       "    </tr>\n",
       "    <tr>\n",
       "      <th>785</th>\n",
       "      <td>{\"question\":\"What is Fertility?\",\"tasks\":[],\"c...</td>\n",
       "    </tr>\n",
       "    <tr>\n",
       "      <th>786</th>\n",
       "      <td>{\"question\":\"Describe Ghana.\",\"tasks\":[],\"can_...</td>\n",
       "    </tr>\n",
       "    <tr>\n",
       "      <th>787</th>\n",
       "      <td>{\"question\":\"From a sociological perspective, ...</td>\n",
       "    </tr>\n",
       "    <tr>\n",
       "      <th>788</th>\n",
       "      <td>{\"question\":\"Which country originated the spor...</td>\n",
       "    </tr>\n",
       "    <tr>\n",
       "      <th>789</th>\n",
       "      <td>{\"question\":\"What are differences between the ...</td>\n",
       "    </tr>\n",
       "  </tbody>\n",
       "</table>\n",
       "<p>790 rows × 1 columns</p>\n",
       "</div>"
      ],
      "text/plain": [
       "                                         actual_output\n",
       "0    {\"question\":\"What are the latest electric vehi...\n",
       "1    {\"question\":\"Which countries currently offer i...\n",
       "2    {\"question\":\"How do electric vehicle incentive...\n",
       "3    {\"question\":\"What is the maximum federal tax c...\n",
       "4    {\"question\":\"Are there any new electric vehicl...\n",
       "..                                                 ...\n",
       "785  {\"question\":\"What is Fertility?\",\"tasks\":[],\"c...\n",
       "786  {\"question\":\"Describe Ghana.\",\"tasks\":[],\"can_...\n",
       "787  {\"question\":\"From a sociological perspective, ...\n",
       "788  {\"question\":\"Which country originated the spor...\n",
       "789  {\"question\":\"What are differences between the ...\n",
       "\n",
       "[790 rows x 1 columns]"
      ]
     },
     "execution_count": 9,
     "metadata": {},
     "output_type": "execute_result"
    }
   ],
   "source": [
    "new_df"
   ]
  },
  {
   "cell_type": "code",
   "execution_count": 10,
   "id": "d8a3ac8f-024f-44ae-9de9-b60d6e2c8f54",
   "metadata": {},
   "outputs": [],
   "source": [
    "new_df = new_df.rename(columns={'actual_output': 'input'})"
   ]
  },
  {
   "cell_type": "code",
   "execution_count": 11,
   "id": "dbbabddd-7e63-4794-b07f-0fbef3e81225",
   "metadata": {},
   "outputs": [
    {
     "data": {
      "text/html": [
       "<div>\n",
       "<style scoped>\n",
       "    .dataframe tbody tr th:only-of-type {\n",
       "        vertical-align: middle;\n",
       "    }\n",
       "\n",
       "    .dataframe tbody tr th {\n",
       "        vertical-align: top;\n",
       "    }\n",
       "\n",
       "    .dataframe thead th {\n",
       "        text-align: right;\n",
       "    }\n",
       "</style>\n",
       "<table border=\"1\" class=\"dataframe\">\n",
       "  <thead>\n",
       "    <tr style=\"text-align: right;\">\n",
       "      <th></th>\n",
       "      <th>input</th>\n",
       "    </tr>\n",
       "  </thead>\n",
       "  <tbody>\n",
       "    <tr>\n",
       "      <th>0</th>\n",
       "      <td>{\"question\":\"What are the latest electric vehi...</td>\n",
       "    </tr>\n",
       "    <tr>\n",
       "      <th>1</th>\n",
       "      <td>{\"question\":\"Which countries currently offer i...</td>\n",
       "    </tr>\n",
       "  </tbody>\n",
       "</table>\n",
       "</div>"
      ],
      "text/plain": [
       "                                               input\n",
       "0  {\"question\":\"What are the latest electric vehi...\n",
       "1  {\"question\":\"Which countries currently offer i..."
      ]
     },
     "execution_count": 11,
     "metadata": {},
     "output_type": "execute_result"
    }
   ],
   "source": [
    "new_df.head(2)"
   ]
  },
  {
   "cell_type": "code",
   "execution_count": 12,
   "id": "555d949b-01da-479e-8ae2-cc329f5b1e57",
   "metadata": {},
   "outputs": [
    {
     "name": "stdout",
     "output_type": "stream",
     "text": [
      "Failed to load model: 1 validation error for QuestionSplit\n",
      "  Invalid JSON: expected value at line 1 column 1 [type=json_invalid, input_value='समुद्री ...],\"can_i_answer\":false}', input_type=str]\n",
      "    For further information visit https://errors.pydantic.dev/2.6/v/json_invalid\n",
      "Failed to load model: 1 validation error for QuestionSplit\n",
      "  Invalid JSON: expected value at line 1 column 1 [type=json_invalid, input_value='అమెరికాల...],\"can_i_answer\":false}', input_type=str]\n",
      "    For further information visit https://errors.pydantic.dev/2.6/v/json_invalid\n",
      "Failed to load model: 1 validation error for QuestionSplit\n",
      "  Invalid JSON: expected ident at line 1 column 3 [type=json_invalid, input_value='In what year did GPT-3, ...],\"can_i_answer\":false}', input_type=str]\n",
      "    For further information visit https://errors.pydantic.dev/2.6/v/json_invalid\n",
      "Failed to load model: 1 validation error for QuestionSplit\n",
      "  Invalid JSON: expected ident at line 1 column 3 [type=json_invalid, input_value='In quale anno \\\\u00e8 en...],\"can_i_answer\":false}', input_type=str]\n",
      "    For further information visit https://errors.pydantic.dev/2.6/v/json_invalid\n",
      "Failed to load model: 1 validation error for QuestionSplit\n",
      "  Invalid JSON: expected `,` or `}` at line 1 column 106 [type=json_invalid, input_value='{\"question\":\"निम...],\"can_i_answer\":false}', input_type=str]\n",
      "    For further information visit https://errors.pydantic.dev/2.6/v/json_invalid\n",
      "Failed to load model: 1 validation error for QuestionSplit\n",
      "  Invalid JSON: EOF while parsing a string at line 1 column 161 [type=json_invalid, input_value='{\"question\":\"‘యత...ాల్గవ\\\\\\\\n}', input_type=str]\n",
      "    For further information visit https://errors.pydantic.dev/2.6/v/json_invalid\n",
      "Failed to load model: 1 validation error for QuestionSplit\n",
      "  Invalid JSON: invalid escape at line 1 column 74 [type=json_invalid, input_value='{\"question\":\"Scrivi una ...],\"can_i_answer\":false}', input_type=str]\n",
      "    For further information visit https://errors.pydantic.dev/2.6/v/json_invalid\n",
      "Failed to load model: 1 validation error for QuestionSplit\n",
      "  Invalid JSON: expected `,` or `}` at line 1 column 48 [type=json_invalid, input_value='{\"question\":\"Rispondi al...],\"can_i_answer\":false}', input_type=str]\n",
      "    For further information visit https://errors.pydantic.dev/2.6/v/json_invalid\n",
      "Failed to load model: 1 validation error for QuestionSplit\n",
      "  Invalid JSON: expected `,` or `}` at line 1 column 46 [type=json_invalid, input_value='{\"question\":\"Completa qu...],\"can_i_answer\":false}', input_type=str]\n",
      "    For further information visit https://errors.pydantic.dev/2.6/v/json_invalid\n",
      "Failed to load model: 1 validation error for QuestionSplit\n",
      "  Invalid JSON: expected `,` or `}` at line 1 column 45 [type=json_invalid, input_value='{\"question\":\"Completa qu...],\"can_i_answer\":false}', input_type=str]\n",
      "    For further information visit https://errors.pydantic.dev/2.6/v/json_invalid\n",
      "Failed to load model: 1 validation error for QuestionSplit\n",
      "  Invalid JSON: expected `,` or `}` at line 1 column 44 [type=json_invalid, input_value='{\"question\":\"Completa il...],\"can_i_answer\":false}', input_type=str]\n",
      "    For further information visit https://errors.pydantic.dev/2.6/v/json_invalid\n",
      "Failed to load model: 1 validation error for QuestionSplit\n",
      "  Invalid JSON: expected `,` or `}` at line 1 column 44 [type=json_invalid, input_value='{\"question\":\"Completa il...],\"can_i_answer\":false}', input_type=str]\n",
      "    For further information visit https://errors.pydantic.dev/2.6/v/json_invalid\n",
      "Failed to load model: 1 validation error for QuestionSplit\n",
      "  Invalid JSON: expected `,` or `}` at line 1 column 44 [type=json_invalid, input_value='{\"question\":\"Completa la...],\"can_i_answer\":false}', input_type=str]\n",
      "    For further information visit https://errors.pydantic.dev/2.6/v/json_invalid\n",
      "Failed to load model: 1 validation error for QuestionSplit\n",
      "  Invalid JSON: expected `,` or `}` at line 1 column 41 [type=json_invalid, input_value='{\"question\":\"Qual \\\\u00e...],\"can_i_answer\":false}', input_type=str]\n",
      "    For further information visit https://errors.pydantic.dev/2.6/v/json_invalid\n",
      "Failed to load model: 1 validation error for QuestionSplit\n",
      "  Invalid JSON: expected `,` or `}` at line 1 column 59 [type=json_invalid, input_value='{\"question\":\"Quale categ...],\"can_i_answer\":false}', input_type=str]\n",
      "    For further information visit https://errors.pydantic.dev/2.6/v/json_invalid\n",
      "Failed to load model: 1 validation error for QuestionSplit\n",
      "  Invalid JSON: expected `,` or `}` at line 1 column 48 [type=json_invalid, input_value='{\"question\":\"Rispondi al...],\"can_i_answer\":false}', input_type=str]\n",
      "    For further information visit https://errors.pydantic.dev/2.6/v/json_invalid\n",
      "Failed to load model: 1 validation error for QuestionSplit\n",
      "  Invalid JSON: expected `,` or `}` at line 1 column 44 [type=json_invalid, input_value='{\"question\":\"Completa la...],\"can_i_answer\":false}', input_type=str]\n",
      "    For further information visit https://errors.pydantic.dev/2.6/v/json_invalid\n",
      "Failed to load model: 1 validation error for QuestionSplit\n",
      "  Invalid JSON: expected `,` or `}` at line 1 column 63 [type=json_invalid, input_value='{\"question\":\"Traduci la ...],\"can_i_answer\":false}', input_type=str]\n",
      "    For further information visit https://errors.pydantic.dev/2.6/v/json_invalid\n",
      "Failed to load model: 1 validation error for QuestionSplit\n",
      "  Invalid JSON: expected `,` or `}` at line 1 column 64 [type=json_invalid, input_value='{\"question\":\" DAMMI UN E...],\"can_i_answer\":false}', input_type=str]\n",
      "    For further information visit https://errors.pydantic.dev/2.6/v/json_invalid\n",
      "Failed to load model: 1 validation error for QuestionSplit\n",
      "  Invalid JSON: expected `,` or `}` at line 1 column 48 [type=json_invalid, input_value='{\"question\":\"Rispondi al...],\"can_i_answer\":false}', input_type=str]\n",
      "    For further information visit https://errors.pydantic.dev/2.6/v/json_invalid\n",
      "Failed to load model: 1 validation error for QuestionSplit\n",
      "  Invalid JSON: invalid escape at line 1 column 51 [type=json_invalid, input_value='{\"question\":\"Qual \\\\u00e...],\"can_i_answer\":false}', input_type=str]\n",
      "    For further information visit https://errors.pydantic.dev/2.6/v/json_invalid\n",
      "Failed to load model: 1 validation error for QuestionSplit\n",
      "  Invalid JSON: expected `,` or `}` at line 1 column 44 [type=json_invalid, input_value='{\"question\":\"Completa la...],\"can_i_answer\":false}', input_type=str]\n",
      "    For further information visit https://errors.pydantic.dev/2.6/v/json_invalid\n",
      "Failed to load model: 1 validation error for QuestionSplit\n",
      "  Invalid JSON: expected `,` or `}` at line 1 column 57 [type=json_invalid, input_value='{\"question\":\"¿Cuál es ...],\"can_i_answer\":false}', input_type=str]\n",
      "    For further information visit https://errors.pydantic.dev/2.6/v/json_invalid\n",
      "Failed to load model: 1 validation error for QuestionSplit\n",
      "  Invalid JSON: expected `,` or `}` at line 1 column 51 [type=json_invalid, input_value='{\"question\":\"what are re...[],\"can_i_answer\":true}', input_type=str]\n",
      "    For further information visit https://errors.pydantic.dev/2.6/v/json_invalid\n",
      "Failed to load model: 1 validation error for QuestionSplit\n",
      "  Invalid JSON: expected `,` or `}` at line 1 column 44 [type=json_invalid, input_value='{\"question\":\"What does i...[],\"can_i_answer\":true}', input_type=str]\n",
      "    For further information visit https://errors.pydantic.dev/2.6/v/json_invalid\n",
      "Failed to load model: 1 validation error for QuestionSplit\n",
      "  Invalid JSON: expected `,` or `}` at line 1 column 40 [type=json_invalid, input_value='{\"question\":\"What is the...[],\"can_i_answer\":true}', input_type=str]\n",
      "    For further information visit https://errors.pydantic.dev/2.6/v/json_invalid\n",
      "Failed to load model: 1 validation error for QuestionSplit\n",
      "  Invalid JSON: EOF while parsing an object at line 1 column 1 [type=json_invalid, input_value='{', input_type=str]\n",
      "    For further information visit https://errors.pydantic.dev/2.6/v/json_invalid\n",
      "Failed to load model: 1 validation error for QuestionSplit\n",
      "  Invalid JSON: expected `,` or `}` at line 1 column 44 [type=json_invalid, input_value='{\"question\":\"What does i...[],\"can_i_answer\":true}', input_type=str]\n",
      "    For further information visit https://errors.pydantic.dev/2.6/v/json_invalid\n",
      "Failed to load model: 1 validation error for QuestionSplit\n",
      "  Invalid JSON: expected `,` or `}` at line 1 column 126 [type=json_invalid, input_value='{\"question\":\"2x + 3y = 1...],\"can_i_answer\":false}', input_type=str]\n",
      "    For further information visit https://errors.pydantic.dev/2.6/v/json_invalid\n",
      "Failed to load model: 1 validation error for QuestionSplit\n",
      "  Invalid JSON: expected `,` or `]` at line 1 column 255 [type=json_invalid, input_value='{\"question\":\"ఇచ్...],\"can_i_answer\":false}', input_type=str]\n",
      "    For further information visit https://errors.pydantic.dev/2.6/v/json_invalid\n",
      "Failed to load model: 1 validation error for QuestionSplit\n",
      "  Invalid JSON: expected `,` or `}` at line 1 column 359 [type=json_invalid, input_value='{\"question\":\"Title: శ...],\"can_i_answer\":false}', input_type=str]\n",
      "    For further information visit https://errors.pydantic.dev/2.6/v/json_invalid\n",
      "Failed to load model: 1 validation error for QuestionSplit\n",
      "  Invalid JSON: expected `,` or `}` at line 1 column 221 [type=json_invalid, input_value='{\"question\":\"Answer this...[],\"can_i_answer\":true}', input_type=str]\n",
      "    For further information visit https://errors.pydantic.dev/2.6/v/json_invalid\n",
      "Failed to load model: 1 validation error for QuestionSplit\n",
      "  Invalid JSON: expected `,` or `}` at line 1 column 59 [type=json_invalid, input_value='{\"question\":\"In a websit...[],\"can_i_answer\":true}', input_type=str]\n",
      "    For further information visit https://errors.pydantic.dev/2.6/v/json_invalid\n",
      "Failed to load model: 1 validation error for QuestionSplit\n",
      "  Invalid JSON: expected value at line 1 column 1 [type=json_invalid, input_value='Bruce Lee was famous in ...[],\"can_i_answer\":true}', input_type=str]\n",
      "    For further information visit https://errors.pydantic.dev/2.6/v/json_invalid\n"
     ]
    }
   ],
   "source": [
    "new_df[\"actual_input\"]=new_df[\"input\"].apply(llm2_input)"
   ]
  },
  {
   "cell_type": "code",
   "execution_count": 13,
   "id": "51f9c638-9b27-41d8-85fb-492aa228f6bd",
   "metadata": {},
   "outputs": [],
   "source": [
    "def llm2_output(value):\n",
    "    # print(python_input)\n",
    "    step_output_result=step_output.generate(value)\n",
    "    return json.dumps(step_output_result)"
   ]
  },
  {
   "cell_type": "code",
   "execution_count": null,
   "id": "58d40f9f-706b-41b9-9441-05b2e607f441",
   "metadata": {},
   "outputs": [
    {
     "name": "stdout",
     "output_type": "stream",
     "text": [
      "StepOutputGenerator num tokens: 3825\n",
      "StepOutputGenerator num tokens: 3421\n",
      "StepOutputGenerator num tokens: 3607\n",
      "StepOutputGenerator num tokens: 3796\n",
      "StepOutputGenerator num tokens: 3851\n",
      "StepOutputGenerator num tokens: 3931\n",
      "StepOutputGenerator num tokens: 3541\n",
      "StepOutputGenerator num tokens: 3962\n",
      "StepOutputGenerator num tokens: 3679\n",
      "StepOutputGenerator num tokens: 3632\n",
      "StepOutputGenerator num tokens: 3960\n",
      "StepOutputGenerator num tokens: 3968\n",
      "StepOutputGenerator num tokens: 3930\n",
      "Num tokens: 4058 exceeds max_tokens: 4000.\n",
      "Failed to load model: 1 validation error for StepsOutput\n",
      "  Input should be a valid dictionary or instance of StepsOutput [type=model_type, input_value=None, input_type=NoneType]\n",
      "    For further information visit https://errors.pydantic.dev/2.6/v/model_type\n",
      "Num tokens: 4062 exceeds max_tokens: 4000.\n",
      "Failed to load model: 1 validation error for StepsOutput\n",
      "  Input should be a valid dictionary or instance of StepsOutput [type=model_type, input_value=None, input_type=NoneType]\n",
      "    For further information visit https://errors.pydantic.dev/2.6/v/model_type\n",
      "Num tokens: 4220 exceeds max_tokens: 4000.\n",
      "Failed to load model: 1 validation error for StepsOutput\n",
      "  Input should be a valid dictionary or instance of StepsOutput [type=model_type, input_value=None, input_type=NoneType]\n",
      "    For further information visit https://errors.pydantic.dev/2.6/v/model_type\n",
      "Num tokens: 4111 exceeds max_tokens: 4000.\n",
      "Failed to load model: 1 validation error for StepsOutput\n",
      "  Input should be a valid dictionary or instance of StepsOutput [type=model_type, input_value=None, input_type=NoneType]\n",
      "    For further information visit https://errors.pydantic.dev/2.6/v/model_type\n",
      "StepOutputGenerator num tokens: 4000\n",
      "Num tokens: 4077 exceeds max_tokens: 4000.\n",
      "Failed to load model: 1 validation error for StepsOutput\n",
      "  Input should be a valid dictionary or instance of StepsOutput [type=model_type, input_value=None, input_type=NoneType]\n",
      "    For further information visit https://errors.pydantic.dev/2.6/v/model_type\n",
      "Num tokens: 4049 exceeds max_tokens: 4000.\n",
      "Failed to load model: 1 validation error for StepsOutput\n",
      "  Input should be a valid dictionary or instance of StepsOutput [type=model_type, input_value=None, input_type=NoneType]\n",
      "    For further information visit https://errors.pydantic.dev/2.6/v/model_type\n",
      "StepOutputGenerator num tokens: 3809\n",
      "StepOutputGenerator num tokens: 3645\n",
      "StepOutputGenerator num tokens: 3656\n",
      "StepOutputGenerator num tokens: 3600\n",
      "StepOutputGenerator num tokens: 3832\n",
      "StepOutputGenerator num tokens: 3993\n",
      "Num tokens: 4221 exceeds max_tokens: 4000.\n",
      "Failed to load model: 1 validation error for StepsOutput\n",
      "  Input should be a valid dictionary or instance of StepsOutput [type=model_type, input_value=None, input_type=NoneType]\n",
      "    For further information visit https://errors.pydantic.dev/2.6/v/model_type\n",
      "StepOutputGenerator num tokens: 3965\n",
      "StepOutputGenerator num tokens: 3958\n",
      "StepOutputGenerator num tokens: 3854\n",
      "Num tokens: 4107 exceeds max_tokens: 4000.\n",
      "Failed to load model: 1 validation error for StepsOutput\n",
      "  Input should be a valid dictionary or instance of StepsOutput [type=model_type, input_value=None, input_type=NoneType]\n",
      "    For further information visit https://errors.pydantic.dev/2.6/v/model_type\n",
      "Num tokens: 4051 exceeds max_tokens: 4000.\n",
      "Failed to load model: 1 validation error for StepsOutput\n",
      "  Input should be a valid dictionary or instance of StepsOutput [type=model_type, input_value=None, input_type=NoneType]\n",
      "    For further information visit https://errors.pydantic.dev/2.6/v/model_type\n",
      "Num tokens: 4188 exceeds max_tokens: 4000.\n",
      "Failed to load model: 1 validation error for StepsOutput\n",
      "  Input should be a valid dictionary or instance of StepsOutput [type=model_type, input_value=None, input_type=NoneType]\n",
      "    For further information visit https://errors.pydantic.dev/2.6/v/model_type\n",
      "Num tokens: 4008 exceeds max_tokens: 4000.\n",
      "Failed to load model: 1 validation error for StepsOutput\n",
      "  Input should be a valid dictionary or instance of StepsOutput [type=model_type, input_value=None, input_type=NoneType]\n",
      "    For further information visit https://errors.pydantic.dev/2.6/v/model_type\n",
      "Num tokens: 4093 exceeds max_tokens: 4000.\n",
      "Failed to load model: 1 validation error for StepsOutput\n",
      "  Input should be a valid dictionary or instance of StepsOutput [type=model_type, input_value=None, input_type=NoneType]\n",
      "    For further information visit https://errors.pydantic.dev/2.6/v/model_type\n",
      "StepOutputGenerator num tokens: 3997\n",
      "StepOutputGenerator num tokens: 3795\n",
      "StepOutputGenerator num tokens: 3793\n",
      "StepOutputGenerator num tokens: 3795\n",
      "Num tokens: 4096 exceeds max_tokens: 4000.\n",
      "Failed to load model: 1 validation error for StepsOutput\n",
      "  Input should be a valid dictionary or instance of StepsOutput [type=model_type, input_value=None, input_type=NoneType]\n",
      "    For further information visit https://errors.pydantic.dev/2.6/v/model_type\n",
      "StepOutputGenerator num tokens: 3665\n"
     ]
    }
   ],
   "source": [
    "new_df[\"expected_output\"]=new_df[\"actual_input\"].apply(llm2_output)"
   ]
  },
  {
   "cell_type": "code",
   "execution_count": null,
   "id": "e601c693-554c-4d20-9dae-1072e2b8f5ee",
   "metadata": {},
   "outputs": [],
   "source": [
    "new_df"
   ]
  },
  {
   "cell_type": "code",
   "execution_count": null,
   "id": "c094a937-eace-452e-a38e-fe3bb0d9dee0",
   "metadata": {},
   "outputs": [],
   "source": [
    "# step_output_result=step_output_generator.StepOutputGenerator().generate(step_input_result)"
   ]
  },
  {
   "cell_type": "code",
   "execution_count": null,
   "id": "2dc7aef5-6ebe-46ba-be2f-c4f31d7ecd2d",
   "metadata": {},
   "outputs": [],
   "source": [
    "# step_output_result"
   ]
  },
  {
   "cell_type": "code",
   "execution_count": null,
   "id": "56586b64-b20f-4e0c-8a89-9ab9f76e91c5",
   "metadata": {},
   "outputs": [],
   "source": [
    "# with open(llms2_json, 'w') as f:\n",
    "#     f.seek(0)\n",
    "#     f.write(json_data)"
   ]
  },
  {
   "cell_type": "code",
   "execution_count": null,
   "id": "a07caf07-faa1-4571-a1ff-72130d2d23cb",
   "metadata": {},
   "outputs": [],
   "source": [
    "json_data=new_df.to_json(orient=\"records\")"
   ]
  },
  {
   "cell_type": "code",
   "execution_count": null,
   "id": "ddcdc7e2-0a1a-4f10-af62-a61e80f6ad4f",
   "metadata": {},
   "outputs": [],
   "source": [
    " with open(llms2_json, 'w') as f:\n",
    "    f.seek(0)\n",
    "    f.write(json_data)"
   ]
  }
 ],
 "metadata": {
  "kernelspec": {
   "display_name": "Python (myenv)",
   "language": "python",
   "name": "myenv"
  },
  "language_info": {
   "codemirror_mode": {
    "name": "ipython",
    "version": 3
   },
   "file_extension": ".py",
   "mimetype": "text/x-python",
   "name": "python",
   "nbconvert_exporter": "python",
   "pygments_lexer": "ipython3",
   "version": "3.11.9"
  }
 },
 "nbformat": 4,
 "nbformat_minor": 5
}
