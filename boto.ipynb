{
 "cells": [
  {
   "cell_type": "code",
   "execution_count": 83,
   "metadata": {},
   "outputs": [],
   "source": [
    "import os\n",
    "import boto3\n",
    "from pathlib import Path\n",
    "\n",
    "AWS_ACCESS_KEY_ID = os.getenv('AWS_ACCESS_KEY', '005dc3bfa158d830000000002')\n",
    "AWS_SECRET_ACCESS_KEY = os.getenv('AWS_SECRET_ACCESS_KEY', 'K005NTUEFXRIi2mMPBKFj0EFWbXMGmA')\n",
    "AWS_ENDPOINT_URL = os.getenv('AWS_ENDPOINT_URL', 's3.us-east-005.backblazeb2.com')\n",
    "\n",
    "class S3Client:\n",
    "    def __init__(\n",
    "        self,\n",
    "        default_bucket_name=\"smartllm\",\n",
    "        endpoint_url=AWS_ENDPOINT_URL,\n",
    "        access_key=AWS_ACCESS_KEY_ID,\n",
    "        secret_key=AWS_SECRET_ACCESS_KEY,\n",
    "    ) -> None:\n",
    "        self.default_bucket = default_bucket_name\n",
    "        self.endpoint_url = endpoint_url\n",
    "        self.https_endpoint_url = f\"https://{endpoint_url}\" if not endpoint_url.startswith('https://') else endpoint_url\n",
    "        self.client = boto3.client(\n",
    "            's3',\n",
    "            endpoint_url=self.https_endpoint_url,\n",
    "            aws_access_key_id=access_key,\n",
    "            aws_secret_access_key=secret_key,\n",
    "        )\n",
    "        \n",
    "    def create_bucket(self, bucket_name: str = None) -> dict:\n",
    "        bucket_name = bucket_name or self.default_bucket\n",
    "        response = self.client.create_bucket(Bucket=bucket_name)\n",
    "        return response\n",
    "    \n",
    "    def list_buckets(self) -> list[dict]:\n",
    "        response = self.client.list_buckets()\n",
    "        return response.get('Buckets', [])\n",
    "\n",
    "    def list_objects(self, bucket_name: str = None) -> list[dict]:\n",
    "        bucket_name = bucket_name or self.default_bucket\n",
    "        response = self.client.list_objects(Bucket=bucket_name)\n",
    "        return response.get('Contents', [])\n",
    "    \n",
    "    def download_file(self, object_key: str, local_parent: str = None, bucket_name: str = None) -> dict:\n",
    "        bucket_name = bucket_name or self.default_bucket\n",
    "        local_parent: Path = Path(local_parent) if local_parent else Path('.')\n",
    "        local_path = local_parent/object_key or Path(object_key)\n",
    "        local_path.parent.mkdir(parents=True, exist_ok=True)\n",
    "        self.client.download_file(bucket_name, object_key, local_path.as_posix())\n",
    "        return local_path\n",
    "    \n",
    "    def upload_file(self, local_path: str, object_key: str = None, bucket_name: str = None) -> dict:\n",
    "        bucket_name = bucket_name or self.default_bucket\n",
    "        local_path: Path = Path(local_path)\n",
    "        if not local_path.exists():\n",
    "            raise FileNotFoundError(f\"File not found: {local_path}\")\n",
    "        object_key = local_path.as_posix() if not object_key else object_key\n",
    "        self.client.upload_file(local_path.as_posix(), bucket_name, object_key)\n",
    "        return f\"https://{bucket_name}.{self.endpoint_url}/{object_key}\"\n",
    "    \n",
    "    def delete_file(self, object_key: str, bucket_name: str = None) -> dict:\n",
    "        bucket_name = bucket_name or self.default_bucket\n",
    "        response = self.client.delete_object(Bucket=bucket_name, Key=object_key)\n",
    "        return response\n",
    "    \n",
    "    def get_presigned_url(self, object_key: str, bucket_name: str = None, expiration: int = 3600) -> str:\n",
    "        bucket_name = bucket_name or self.default_bucket\n",
    "        response = self.client.generate_presigned_url(\n",
    "            'get_object',\n",
    "            Params={\n",
    "                'Bucket': bucket_name,\n",
    "                'Key': object_key\n",
    "            },\n",
    "            ExpiresIn=expiration,\n",
    "            HttpMethod='GET',\n",
    "        )\n",
    "        return response\n",
    "\n",
    "s3 = S3Client()"
   ]
  },
  {
   "cell_type": "code",
   "execution_count": 84,
   "metadata": {},
   "outputs": [
    {
     "data": {
      "text/plain": [
       "'https://smartllm.s3.us-east-005.backblazeb2.com/requirements.txt'"
      ]
     },
     "execution_count": 84,
     "metadata": {},
     "output_type": "execute_result"
    }
   ],
   "source": [
    "s3.upload_file('requirements.txt')"
   ]
  },
  {
   "cell_type": "code",
   "execution_count": 27,
   "metadata": {},
   "outputs": [
    {
     "data": {
      "text/plain": [
       "PosixPath('requirements.png')"
      ]
     },
     "execution_count": 27,
     "metadata": {},
     "output_type": "execute_result"
    }
   ],
   "source": [
    "s3.download_file('smartllm', 'requirements.png')"
   ]
  },
  {
   "cell_type": "code",
   "execution_count": 85,
   "metadata": {},
   "outputs": [
    {
     "data": {
      "text/plain": [
       "[{'Key': 'JupySQL.ipynb',\n",
       "  'LastModified': datetime.datetime(2024, 3, 20, 11, 48, 42, 565000, tzinfo=tzutc()),\n",
       "  'ETag': '\"de32a7b6ba8bb9489c83e3ad6fe4b618\"',\n",
       "  'Size': 22042,\n",
       "  'StorageClass': 'STANDARD',\n",
       "  'Owner': {'DisplayName': '', 'ID': 'dc3bfa158d83'}},\n",
       " {'Key': 'requirements.txt',\n",
       "  'LastModified': datetime.datetime(2024, 3, 20, 13, 13, 12, 326000, tzinfo=tzutc()),\n",
       "  'ETag': '\"99b04e6f345a8045aaaf96e7b6a595b9\"',\n",
       "  'Size': 4644,\n",
       "  'StorageClass': 'STANDARD',\n",
       "  'Owner': {'DisplayName': '', 'ID': 'dc3bfa158d83'}},\n",
       " {'Key': 'tasks.json',\n",
       "  'LastModified': datetime.datetime(2024, 3, 20, 12, 2, 32, 458000, tzinfo=tzutc()),\n",
       "  'ETag': '\"a88780309834231119d31f8c205c81ed\"',\n",
       "  'Size': 547,\n",
       "  'StorageClass': 'STANDARD',\n",
       "  'Owner': {'DisplayName': '', 'ID': 'dc3bfa158d83'}},\n",
       " {'Key': 'vscode/tasks.json',\n",
       "  'LastModified': datetime.datetime(2024, 3, 20, 12, 2, 10, 741000, tzinfo=tzutc()),\n",
       "  'ETag': '\"a88780309834231119d31f8c205c81ed\"',\n",
       "  'Size': 547,\n",
       "  'StorageClass': 'STANDARD',\n",
       "  'Owner': {'DisplayName': '', 'ID': 'dc3bfa158d83'}}]"
      ]
     },
     "execution_count": 85,
     "metadata": {},
     "output_type": "execute_result"
    }
   ],
   "source": [
    "s3.list_objects(\"smartllm\")"
   ]
  }
 ],
 "metadata": {
  "kernelspec": {
   "display_name": ".venv",
   "language": "python",
   "name": "python3"
  },
  "language_info": {
   "codemirror_mode": {
    "name": "ipython",
    "version": 3
   },
   "file_extension": ".py",
   "mimetype": "text/x-python",
   "name": "python",
   "nbconvert_exporter": "python",
   "pygments_lexer": "ipython3",
   "version": "3.10.12"
  }
 },
 "nbformat": 4,
 "nbformat_minor": 2
}
