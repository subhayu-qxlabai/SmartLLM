{
 "cells": [
  {
   "cell_type": "code",
   "execution_count": 2,
   "metadata": {},
   "outputs": [],
   "source": [
    "from helpers.storage import S3Client\n",
    "\n",
    "client = S3Client()\n",
    "objects = client.list_objects()"
   ]
  },
  {
   "cell_type": "code",
   "execution_count": 3,
   "metadata": {},
   "outputs": [
    {
     "data": {
      "text/plain": [
       "['generated/0168ac887855/french.json',\n",
       " 'generated/0168ac887855/italian.json',\n",
       " 'generated/a4dac24403f6/gujrati.json',\n",
       " 'generated/a4dac24403f6/tamil.json',\n",
       " 'generated/aab52f77d79b/hindi.json',\n",
       " 'generated/aab52f77d79b/kannada.json',\n",
       " 'generated/ae3f1b429eda/arabic.json',\n",
       " 'generated/ae3f1b429eda/portugese.json',\n",
       " 'generated/ae3f1b429eda/spanish.json']"
      ]
     },
     "execution_count": 3,
     "metadata": {},
     "output_type": "execute_result"
    }
   ],
   "source": [
    "[x[\"Key\"] for x in objects]"
   ]
  },
  {
   "cell_type": "code",
   "execution_count": 12,
   "metadata": {},
   "outputs": [],
   "source": [
    "[client.download_file(x[\"Key\"]) for x in objects]"
   ]
  },
  {
   "cell_type": "code",
   "execution_count": 4,
   "metadata": {},
   "outputs": [],
   "source": [
    "from models.llm_dataset import LLMDataset, LLMType, DatasetRow\n",
    "\n",
    "d = LLMDataset.from_files(files=[x['Key'] for x in objects][:2], dir=None, threads=1)"
   ]
  },
  {
   "cell_type": "code",
   "execution_count": 13,
   "metadata": {},
   "outputs": [
    {
     "name": "stderr",
     "output_type": "stream",
     "text": [
      "Creating parquet from Arrow format: 100%|██████████| 1/1 [00:00<00:00, 572.99ba/s]\n"
     ]
    },
    {
     "data": {
      "text/plain": [
       "49806"
      ]
     },
     "execution_count": 13,
     "metadata": {},
     "output_type": "execute_result"
    }
   ],
   "source": [
    "d[:100].to_messages().to_dataset().to_parquet('test_llm_dataset.parquet')"
   ]
  },
  {
   "cell_type": "code",
   "execution_count": 16,
   "metadata": {},
   "outputs": [
    {
     "data": {
      "text/plain": [
       "[DatasetRow(llm=llm1, language=french, system=None, input={\"question\": \"Quelles sont les derni\\u00e8res avanc\\u00e9es en mati\\u00e8re de calcul quantique en 2023 ?\"}, output={\"question\": \"Quelles sont les derni\\u00e8res avanc\\u00e9es en mati\\u00e8re de calcul quantique en 2023 ?\", \"tasks\": [\"RESEARCH: Find recent publications or news articles on quantum computing advancements in 2023\", \"SUMMARIZE: Provide a summary of the key developments in quantum computing for the year 2023\"], \"can_i_answer\": false}),\n",
       " DatasetRow(llm=llm1, language=french, system=None, input={\"question\": \"Quel est le classement actuel de la Premier League ?\"}, output={\"question\": \"Quel est le classement actuel de la Premier League ?\", \"tasks\": [\"SEARCH: Find the latest Premier League standings from a reliable sports news source\"], \"can_i_answer\": false}),\n",
       " DatasetRow(llm=llm1, language=french, system=None, input={\"question\": \"Quelles sont les derni\\u00e8res tendances en mati\\u00e8re de culture du travail \\u00e0 distance pour 2023 ?\"}, output={\"question\": \"Quelles sont les derni\\u00e8res tendances en mati\\u00e8re de culture du travail \\u00e0 distance pour 2023 ?\", \"tasks\": [\"RESEARCH: Identify recent studies or surveys about remote work trends\", \"ANALYZE: Summarize the key findings related to remote work culture trends for 2023\", \"UPDATE: Check for the latest expert opinions or articles on remote work trends in 2023\"], \"can_i_answer\": false}),\n",
       " DatasetRow(llm=llm1, language=french, system=None, input={\"question\": \"Quelles sont les derni\\u00e8res mises \\u00e0 jour sur l'accord du Brexit ?\"}, output={\"question\": \"Quelles sont les derni\\u00e8res mises \\u00e0 jour sur l'accord du Brexit ?\", \"tasks\": [\"RESEARCH: Look for recent news articles and official statements regarding updates on the Brexit agreement\"], \"can_i_answer\": false}),\n",
       " DatasetRow(llm=llm1, language=french, system=None, input={\"question\": \"Combien de gants de baseball sont g\\u00e9n\\u00e9ralement fabriqu\\u00e9s \\u00e0 partir d'une seule peau de vache ?\"}, output={\"question\": \"Combien de gants de baseball sont g\\u00e9n\\u00e9ralement fabriqu\\u00e9s \\u00e0 partir d'une seule peau de vache ?\", \"tasks\": [\"RESEARCH: Find information about the average size of a cowhide\", \"RESEARCH: Determine the amount of material needed to make one baseball glove\", \"CALCULATE: Estimate the number of baseball gloves that can be made from a single cowhide based on the above information\"], \"can_i_answer\": false}),\n",
       " DatasetRow(llm=llm1, language=french, system=None, input={\"question\": \"Quelle s\\u00e9rie t\\u00e9l\\u00e9vis\\u00e9e a une meilleure note IMDb, 'The O.C.' ou 'One Tree Hill', et quelles sont les raisons de sa popularit\\u00e9 ?\"}, output={\"question\": \"Quelle s\\u00e9rie t\\u00e9l\\u00e9vis\\u00e9e a une meilleure note IMDb, 'The O.C.' ou 'One Tree Hill', et quelles sont les raisons de sa popularit\\u00e9 ?\", \"tasks\": [\"SEARCH: Find the IMDb ratings for 'The O.C.'\", \"SEARCH: Find the IMDb ratings for 'One Tree Hill'\", \"COMPARE: Determine which TV show has a higher IMDb rating\", \"RESEARCH: Explore factors contributing to the popularity of the higher-rated TV show\"], \"can_i_answer\": false}),\n",
       " DatasetRow(llm=llm1, language=french, system=None, input={\"question\": \"Quels artistes sont en t\\u00eate d'affiche des festivals de musique en 2023 ?\"}, output={\"question\": \"Quels artistes sont en t\\u00eate d'affiche des festivals de musique en 2023 ?\", \"tasks\": [\"RESEARCH: Identify major music festivals happening in 2023\", \"LOOKUP: Find the headlining artists for each identified music festival\"], \"can_i_answer\": false}),\n",
       " DatasetRow(llm=llm1, language=french, system=None, input={\"question\": \"Quelles mises \\u00e0 jour l'Accord de Paris a-t-il re\\u00e7ues en 2023 ?\"}, output={\"question\": \"Quelles mises \\u00e0 jour l'Accord de Paris a-t-il re\\u00e7ues en 2023 ?\", \"tasks\": [\"RESEARCH: Check the latest official updates or amendments made to the Paris Agreement in 2023\", \"VALIDATE: Cross-reference the updates with credible sources to ensure accuracy\"], \"can_i_answer\": false}),\n",
       " DatasetRow(llm=llm1, language=french, system=None, input={\"question\": \"Quelles sont les derni\\u00e8res d\\u00e9couvertes de la recherche scientifique sur les effets du r\\u00e9chauffement climatique en 2023 ?\"}, output={\"question\": \"Quelles sont les derni\\u00e8res d\\u00e9couvertes de la recherche scientifique sur les effets du r\\u00e9chauffement climatique en 2023 ?\", \"tasks\": [\"RESEARCH: Find the latest scientific research published in 2023 on the effects of climate change\", \"SUMMARIZE: Provide a summary of the key findings from the latest research\"], \"can_i_answer\": false}),\n",
       " DatasetRow(llm=llm1, language=french, system=None, input={\"question\": \"Quelles \\u00e9taient les statistiques comparatives de J\\u00e9r\\u00e9my Toulalan et Didier Deschamps \\u00e0 l'\\u00e2ge de 30 ans ?\"}, output={\"question\": \"Quelles \\u00e9taient les statistiques comparatives de J\\u00e9r\\u00e9my Toulalan et Didier Deschamps \\u00e0 l'\\u00e2ge de 30 ans ?\", \"tasks\": [\"RESEARCH: Find J\\u00e9r\\u00e9my Toulalan's statistics up to the age of 30\", \"RESEARCH: Find Didier Deschamps' statistics up to the age of 30\", \"COMPARE: Analyze and compare the statistics of both players at the age of 30\"], \"can_i_answer\": false}),\n",
       " DatasetRow(llm=llm1, language=french, system=None, input={\"question\": \"Quels sont les derniers mod\\u00e8les de smartphones sortis en 2023 et leurs caract\\u00e9ristiques ?\"}, output={\"question\": \"Quels sont les derniers mod\\u00e8les de smartphones sortis en 2023 et leurs caract\\u00e9ristiques ?\", \"tasks\": [\"RESEARCH: Look up the latest smartphone releases in 2023\", \"SUMMARIZE: Compile a list of their features and specifications\"], \"can_i_answer\": false}),\n",
       " DatasetRow(llm=llm1, language=french, system=None, input={\"question\": \"Quels sont les smartphones les mieux not\\u00e9s en 2023 ?\"}, output={\"question\": \"Quels sont les smartphones les mieux not\\u00e9s en 2023 ?\", \"tasks\": [\"RESEARCH: Find reputable sources for smartphone reviews\", \"ANALYZE: Look for the latest smartphone rankings and ratings for 2023\", \"SYNTHESIZE: List the top-rated smartphones based on the findings\"], \"can_i_answer\": false}),\n",
       " DatasetRow(llm=llm1, language=french, system=None, input={\"question\": \"Quelles startups sont devenues des licornes en 2023 ?\"}, output={\"question\": \"Quelles startups sont devenues des licornes en 2023 ?\", \"tasks\": [\"RESEARCH: Identify startups that achieved unicorn status in 2023\"], \"can_i_answer\": false}),\n",
       " DatasetRow(llm=llm1, language=french, system=None, input={\"question\": \"Quel est le dernier album sorti par Brooke Hogan et \\u00e0 quelle date ?\"}, output={\"question\": \"Quel est le dernier album sorti par Brooke Hogan et \\u00e0 quelle date ?\", \"tasks\": [\"SEARCH: Find the most recent album released by Brooke Hogan\", \"SEARCH: Determine the release date of that album\"], \"can_i_answer\": false}),\n",
       " DatasetRow(llm=llm1, language=french, system=None, input={\"question\": \"Comment ex\\u00e9cuter un jugement si le d\\u00e9fendeur pr\\u00e9tend \\u00eatre incapable de payer apr\\u00e8s avoir gagn\\u00e9 une affaire judiciaire ?\"}, output={\"question\": \"Comment ex\\u00e9cuter un jugement si le d\\u00e9fendeur pr\\u00e9tend \\u00eatre incapable de payer apr\\u00e8s avoir gagn\\u00e9 une affaire judiciaire ?\", \"tasks\": [\"RESEARCH: Study the legal procedures for enforcing a judgment in the relevant jurisdiction\", \"IDENTIFY: Determine the legal options available when a defendant claims inability to pay\", \"CONSULT: Consider seeking advice from a legal professional for specific steps\"], \"can_i_answer\": false}),\n",
       " DatasetRow(llm=llm1, language=french, system=None, input={\"question\": \"Quelles informations suppl\\u00e9mentaires peut-on trouver au sujet de la question 'To all of u who seen my q Does this seem right u?' ?\"}, output={\"question\": \"Quelles informations suppl\\u00e9mentaires peut-on trouver au sujet de la question 'To all of u who seen my q Does this seem right u?' ?\", \"tasks\": [\"CONTEXT: Determine the context or platform where the question was asked\", \"CLARIFICATION: Seek out additional details that clarify the nature of the original question\", \"SEARCH: Look for any discussions, answers, or comments related to the original question\"], \"can_i_answer\": false}),\n",
       " DatasetRow(llm=llm1, language=french, system=None, input={\"question\": \"Quelle \\u00e9tait la religion pr\\u00e9dominante des peuples autochtones historiquement natifs de la r\\u00e9gion de Cancun ?\"}, output={\"question\": \"Quelle \\u00e9tait la religion pr\\u00e9dominante des peuples autochtones historiquement natifs de la r\\u00e9gion de Cancun ?\", \"tasks\": [\"RESEARCH: Determine the indigenous groups that were historically native to the region of Cancun\", \"RESEARCH: Investigate the predominant religion or belief systems of these indigenous groups\"], \"can_i_answer\": false}),\n",
       " DatasetRow(llm=llm1, language=french, system=None, input={\"question\": \"Quelle est la d\\u00e9finition de la langue selon John Fell, de pr\\u00e9f\\u00e9rence en filipino ?\"}, output={\"question\": \"Quelle est la d\\u00e9finition de la langue selon John Fell, de pr\\u00e9f\\u00e9rence en filipino ?\", \"tasks\": [\"RESEARCH: Find the definition of 'language' according to John Fell\", \"TRANSLATE: Convert the definition into Filipino\"], \"can_i_answer\": false}),\n",
       " DatasetRow(llm=llm1, language=french, system=None, input={\"question\": \"Quelles sont les cat\\u00e9gories d'applications mobiles tendance sur l'App Store cette semaine ?\"}, output={\"question\": \"Quelles sont les cat\\u00e9gories d'applications mobiles tendance sur l'App Store cette semaine ?\", \"tasks\": [\"ACCESS: Open the App Store on an iOS device or via a web browser\", \"NAVIGATE: Go to the 'Top Charts' section or similar feature that lists trending apps\", \"IDENTIFY: Look for categories that are highlighted or have the most popular apps\"], \"can_i_answer\": false}),\n",
       " DatasetRow(llm=llm1, language=french, system=None, input={\"question\": \"Quel est le salaire minimum recommand\\u00e9 pour 2023 selon les \\u00e9conomistes ?\"}, output={\"question\": \"Quel est le salaire minimum recommand\\u00e9 pour 2023 selon les \\u00e9conomistes ?\", \"tasks\": [\"RESEARCH: Find recent articles or reports by economists or economic institutions about the recommended minimum wage for 2023\"], \"can_i_answer\": false}),\n",
       " DatasetRow(llm=llm1, language=french, system=None, input={\"question\": \"Quelle \\u00e9tait la quantit\\u00e9 de neige enregistr\\u00e9e le 21 janvier 2006 ?\"}, output={\"question\": \"Quelle \\u00e9tait la quantit\\u00e9 de neige enregistr\\u00e9e le 21 janvier 2006 ?\", \"tasks\": [\"RESEARCH: Look up historical weather data for January 21, 2006, to find the recorded snowfall.\"], \"can_i_answer\": false}),\n",
       " DatasetRow(llm=llm1, language=french, system=None, input={\"question\": \"Comment installer en dual-boot Ubuntu Linux et Mac OS 10.4 sur un iBook ?\"}, output={\"question\": \"Comment installer en dual-boot Ubuntu Linux et Mac OS 10.4 sur un iBook ?\", \"tasks\": [\"RESEARCH: Check the compatibility of Ubuntu Linux with Mac OS 10.4 and iBook hardware\", \"INSTRUCTIONS: Find a step-by-step guide for creating a partition on the iBook\", \"INSTRUCTIONS: Look for instructions on how to install Ubuntu Linux on a separate partition alongside Mac OS 10.4\", \"TROUBLESHOOT: Find common issues and solutions related to dual-booting Ubuntu Linux with Mac OS on iBook\"], \"can_i_answer\": false}),\n",
       " DatasetRow(llm=llm1, language=french, system=None, input={\"question\": \"Quelles sont les r\\u00e9actions les plus r\\u00e9centes des citoyens et des immigrants l\\u00e9gaux concernant l'\\u00e9v\\u00e9nement d'actualit\\u00e9 important d'aujourd'hui ?\"}, output={\"question\": \"Quelles sont les r\\u00e9actions les plus r\\u00e9centes des citoyens et des immigrants l\\u00e9gaux concernant l'\\u00e9v\\u00e9nement d'actualit\\u00e9 important d'aujourd'hui ?\", \"tasks\": [\"IDENTIFY: Determine what the important current event is\", \"RESEARCH: Gather recent opinions and reactions from citizens and legal immigrants regarding the event\", \"ANALYZE: Summarize the overall sentiment and notable perspectives from the collected data\"], \"can_i_answer\": false}),\n",
       " DatasetRow(llm=llm1, language=french, system=None, input={\"question\": \"Quelles sont les derni\\u00e8res avanc\\u00e9es en 2023 concernant la conservation des esp\\u00e8ces en voie de disparition ?\"}, output={\"question\": \"Quelles sont les derni\\u00e8res avanc\\u00e9es en 2023 concernant la conservation des esp\\u00e8ces en voie de disparition ?\", \"tasks\": [\"RESEARCH: Look for recent scientific articles or news about endangered species conservation efforts in 2023\", \"SUMMARIZE: Extract key findings or advancements from the sources found\"], \"can_i_answer\": false}),\n",
       " DatasetRow(llm=llm1, language=french, system=None, input={\"question\": \"Pourquoi un petit plat \\u00e0 l\\u00e9gumes dans l'industrie des services alimentaires est-il appel\\u00e9 un 'monkey dish' ?\"}, output={\"question\": \"Pourquoi un petit plat \\u00e0 l\\u00e9gumes dans l'industrie des services alimentaires est-il appel\\u00e9 un 'monkey dish' ?\", \"tasks\": [\"RESEARCH: Investigate the origin of the term 'monkey dish' in the food service industry\"], \"can_i_answer\": false}),\n",
       " DatasetRow(llm=llm1, language=french, system=None, input={\"question\": \"Quelles sont les strat\\u00e9gies les plus efficaces pour l'am\\u00e9lioration de la sant\\u00e9 mentale en 2023 ?\"}, output={\"question\": \"Quelles sont les strat\\u00e9gies les plus efficaces pour l'am\\u00e9lioration de la sant\\u00e9 mentale en 2023 ?\", \"tasks\": [\"RESEARCH: Identify the most recent and effective strategies for mental health improvement\", \"COMPARE: Assess these strategies to determine their effectiveness based on current data and research\", \"UPDATE: Consider any new mental health trends or findings that have emerged in 2023\"], \"can_i_answer\": false}),\n",
       " DatasetRow(llm=llm1, language=french, system=None, input={\"question\": \"Quelles sont les opinions populaires sur le charme de Pete Wentz ?\"}, output={\"question\": \"Quelles sont les opinions populaires sur le charme de Pete Wentz ?\", \"tasks\": [\"SEARCH: Look for recent surveys, polls, or articles about Pete Wentz's appeal\", \"ANALYZE: Summarize the general public opinion on Pete Wentz's charm\"], \"can_i_answer\": false}),\n",
       " DatasetRow(llm=llm1, language=french, system=None, input={\"question\": \"Quelles sont les derni\\u00e8res avanc\\u00e9es technologiques qui ont simplifi\\u00e9 les t\\u00e2ches m\\u00e9nag\\u00e8res en 2023 ?\"}, output={\"question\": \"Quelles sont les derni\\u00e8res avanc\\u00e9es technologiques qui ont simplifi\\u00e9 les t\\u00e2ches m\\u00e9nag\\u00e8res en 2023 ?\", \"tasks\": [\"RESEARCH: Identify the latest technological advances in 2023 related to household chores\", \"SUMMARIZE: Provide an overview of how these technologies simplify household tasks\"], \"can_i_answer\": false}),\n",
       " DatasetRow(llm=llm1, language=french, system=None, input={\"question\": \"Quels sont les arguments pour et contre la mise en place d'un test d'aptitude de base pour les candidats \\u00e0 la pr\\u00e9sidence des \\u00c9tats-Unis ?\"}, output={\"question\": \"Quels sont les arguments pour et contre la mise en place d'un test d'aptitude de base pour les candidats \\u00e0 la pr\\u00e9sidence des \\u00c9tats-Unis ?\", \"tasks\": [\"RESEARCH: Identify common arguments that support the implementation of a basic aptitude test for presidential candidates\", \"RESEARCH: Identify common arguments against the implementation of a basic aptitude test for presidential candidates\", \"ANALYZE: Summarize the potential impact of such a test on the political process\"], \"can_i_answer\": false}),\n",
       " DatasetRow(llm=llm1, language=french, system=None, input={\"question\": \"\\u00c0 qui Scott Foley est-il mari\\u00e9 en 2023 ?\"}, output={\"question\": \"\\u00c0 qui Scott Foley est-il mari\\u00e9 en 2023 ?\", \"tasks\": [\"SEARCH: Determine who Scott Foley is married to as of 2023\"], \"can_i_answer\": false}),\n",
       " DatasetRow(llm=llm1, language=french, system=None, input={\"question\": \"Qui est l'actuel champion de tennis en titre ?\"}, output={\"question\": \"Qui est l'actuel champion de tennis en titre ?\", \"tasks\": [\"RESEARCH: Find the most recent tennis championship results\", \"IDENTIFY: Determine the current champions for both men's and women's singles\"], \"can_i_answer\": false}),\n",
       " DatasetRow(llm=llm1, language=french, system=None, input={\"question\": \"Quel est l'impact des progr\\u00e8s de la technologie IA sur les march\\u00e9s de l'emploi ?\"}, output={\"question\": \"Quel est l'impact des progr\\u00e8s de la technologie IA sur les march\\u00e9s de l'emploi ?\", \"tasks\": [\"RESEARCH: Identify and review studies or reports on the impact of AI technology on employment markets\", \"ANALYZE: Determine the positive and negative effects of AI on job availability, job nature, and workforce skills requirements\", \"SUMMARIZE: Present findings on how AI technology advances have changed employment trends and what predictions experts are making for the future\"], \"can_i_answer\": false}),\n",
       " DatasetRow(llm=llm1, language=french, system=None, input={\"question\": \"Quelles sont les conditions actuelles \\u00e0 la station de ski Tiffindell en Afrique du Sud ?\"}, output={\"question\": \"Quelles sont les conditions actuelles \\u00e0 la station de ski Tiffindell en Afrique du Sud ?\", \"tasks\": [\"SEARCH: Check the latest weather reports for Tiffindell Ski Resort\", \"SEARCH: Look for recent visitor reviews or live cams for current conditions\", \"SEARCH: Visit the official Tiffindell Ski Resort website or social media channels for updates\"], \"can_i_answer\": false}),\n",
       " DatasetRow(llm=llm1, language=french, system=None, input={\"question\": \"Quel est le prix actuel du baril de p\\u00e9trole brut ?\"}, output={\"question\": \"Quel est le prix actuel du baril de p\\u00e9trole brut ?\", \"tasks\": [\"SEARCH: Find the latest information on the current price of a barrel of crude oil\"], \"can_i_answer\": false}),\n",
       " DatasetRow(llm=llm1, language=french, system=None, input={\"question\": \"Quelles sont les principales organisations sp\\u00e9cialis\\u00e9es dans la recherche sur les cellules souches en 2023 ?\"}, output={\"question\": \"Quelles sont les principales organisations sp\\u00e9cialis\\u00e9es dans la recherche sur les cellules souches en 2023 ?\", \"tasks\": [\"RESEARCH: Identify the leading stem cell research organizations as of 2023.\", \"LIST: Compile a list of these organizations including their achievements or contributions to the field.\"], \"can_i_answer\": false}),\n",
       " DatasetRow(llm=llm1, language=french, system=None, input={\"question\": \"Quel est le nombre actuel de conflits militaires actifs dans le monde ?\"}, output={\"question\": \"Quel est le nombre actuel de conflits militaires actifs dans le monde ?\", \"tasks\": [\"RESEARCH: Find the most recent data on active military conflicts around the world from a reliable source\"], \"can_i_answer\": false}),\n",
       " DatasetRow(llm=llm1, language=french, system=None, input={\"question\": \"Quelles sont les derni\\u00e8res nouvelles sur les menaces de cybers\\u00e9curit\\u00e9 ?\"}, output={\"question\": \"Quelles sont les derni\\u00e8res nouvelles sur les menaces de cybers\\u00e9curit\\u00e9 ?\", \"tasks\": [\"RESEARCH: Find recent articles and reports on cybersecurity threats\", \"SUMMARIZE: Provide a summary of the latest developments in cybersecurity threats\"], \"can_i_answer\": false}),\n",
       " DatasetRow(llm=llm1, language=french, system=None, input={\"question\": \"Quels sont les meilleurs mod\\u00e8les de climatiseurs pour les b\\u00e2timents commerciaux, r\\u00e9sidentiels et industriels en 2023 ?\"}, output={\"question\": \"Quels sont les meilleurs mod\\u00e8les de climatiseurs pour les b\\u00e2timents commerciaux, r\\u00e9sidentiels et industriels en 2023 ?\", \"tasks\": [\"RESEARCH: Identify the top-rated air conditioner models for commercial, residential, and industrial buildings in 2023\", \"COMPARE: Analyze reviews and specifications for each recommended model\", \"UPDATE: Ensure the information is current for the year 2023\"], \"can_i_answer\": false}),\n",
       " DatasetRow(llm=llm1, language=french, system=None, input={\"question\": \"Quelles sont les derni\\u00e8res critiques pour Beulah Park \\u00e0 Grove City, Ohio ?\"}, output={\"question\": \"Quelles sont les derni\\u00e8res critiques pour Beulah Park \\u00e0 Grove City, Ohio ?\", \"tasks\": [\"SEARCH: Look up the latest reviews for Beulah Park in Grove City, Ohio on review platforms or local forums\"], \"can_i_answer\": false}),\n",
       " DatasetRow(llm=llm1, language=french, system=None, input={\"question\": \"Quelles sont les derni\\u00e8res d\\u00e9couvertes sur l'efficacit\\u00e9 du je\\u00fbne intermittent pour la perte de poids?\"}, output={\"question\": \"Quelles sont les derni\\u00e8res d\\u00e9couvertes sur l'efficacit\\u00e9 du je\\u00fbne intermittent pour la perte de poids?\", \"tasks\": [\"RESEARCH: Find recent studies or articles on intermittent fasting and its effectiveness for weight loss\", \"SUMMARIZE: Extract the key findings from the latest research on intermittent fasting\"], \"can_i_answer\": false}),\n",
       " DatasetRow(llm=llm1, language=french, system=None, input={\"question\": \"Quel est l'\\u00e9tat actuel des initiatives d'\\u00e9nergie renouvelable en 2023 ?\"}, output={\"question\": \"Quel est l'\\u00e9tat actuel des initiatives d'\\u00e9nergie renouvelable en 2023 ?\", \"tasks\": [\"RESEARCH: Investigate the latest developments in renewable energy initiatives in 2023\", \"SUMMARIZE: Provide a summary of the current status, including any major projects, legislation, investments, or technological advancements\"], \"can_i_answer\": false}),\n",
       " DatasetRow(llm=llm1, language=french, system=None, input={\"question\": \"Y a-t-il des populations de loups sauvages en Grande-Bretagne en 2023 ?\"}, output={\"question\": \"Y a-t-il des populations de loups sauvages en Grande-Bretagne en 2023 ?\", \"tasks\": [\"RESEARCH: Check for recent reports or studies on wild wolf populations in Great Britain in 2023\"], \"can_i_answer\": false}),\n",
       " DatasetRow(llm=llm1, language=french, system=None, input={\"question\": \"Quelles sont les derni\\u00e8res avanc\\u00e9es en mati\\u00e8re de technologie en date ?\"}, output={\"question\": \"Quelles sont les derni\\u00e8res avanc\\u00e9es en mati\\u00e8re de technologie en date ?\", \"tasks\": [\"RESEARCH: Identify the latest technological advancements from various credible sources\", \"SUMMARIZE: Compile the findings into a comprehensive overview\"], \"can_i_answer\": false}),\n",
       " DatasetRow(llm=llm1, language=french, system=None, input={\"question\": \"Quelle est l'efficacit\\u00e9 du clic sur 'se d\\u00e9sabonner' pour arr\\u00eater r\\u00e9ellement les courriels ind\\u00e9sirables ?\"}, output={\"question\": \"Quelle est l'efficacit\\u00e9 du clic sur 'se d\\u00e9sabonner' pour arr\\u00eater r\\u00e9ellement les courriels ind\\u00e9sirables ?\", \"tasks\": [\"RESEARCH: Look into the effectiveness of unsubscribe links in reducing spam emails\", \"ANALYZE: Investigate the laws and regulations that govern the use of unsubscribe links\"], \"can_i_answer\": false}),\n",
       " DatasetRow(llm=llm1, language=french, system=None, input={\"question\": \"Quels sont les facteurs psychologiques qui contribuent \\u00e0 la perception de l'arrogance chez les musiciens \\u00e0 succ\\u00e8s ?\"}, output={\"question\": \"Quels sont les facteurs psychologiques qui contribuent \\u00e0 la perception de l'arrogance chez les musiciens \\u00e0 succ\\u00e8s ?\", \"tasks\": [\"RESEARCH: Identify psychological studies or articles on the perception of arrogance\", \"ANALYZE: Determine which psychological factors are commonly associated with the perception of arrogance in successful individuals, particularly musicians\", \"SYNTHESIZE: Summarize the findings into a comprehensive list of factors\"], \"can_i_answer\": false}),\n",
       " DatasetRow(llm=llm1, language=french, system=None, input={\"question\": \"Quelles sont les derni\\u00e8res actualit\\u00e9s concernant les missions sur Mars et l'exploration spatiale en 2023 ?\"}, output={\"question\": \"Quelles sont les derni\\u00e8res actualit\\u00e9s concernant les missions sur Mars et l'exploration spatiale en 2023 ?\", \"tasks\": [\"RESEARCH: Find recent news articles or official mission updates about Mars missions and space exploration in 2023\", \"SUMMARIZE: Provide a summary of the latest developments and findings\"], \"can_i_answer\": false}),\n",
       " DatasetRow(llm=llm1, language=french, system=None, input={\"question\": \"Quelles sont les derni\\u00e8res statistiques sur la pauvret\\u00e9 mondiale ?\"}, output={\"question\": \"Quelles sont les derni\\u00e8res statistiques sur la pauvret\\u00e9 mondiale ?\", \"tasks\": [\"RESEARCH: Find recent reports or data on global poverty from reliable sources such as the World Bank, United Nations, or other relevant organizations\", \"SUMMARIZE: Provide a summary of the latest statistics and trends in global poverty\"], \"can_i_answer\": false}),\n",
       " DatasetRow(llm=llm1, language=french, system=None, input={\"question\": \"Quelles sont les inexactitudes historiques dans le film 'Troie' compar\\u00e9es aux \\u00e9v\\u00e9nements r\\u00e9els de la guerre de Troie ?\"}, output={\"question\": \"Quelles sont les inexactitudes historiques dans le film 'Troie' compar\\u00e9es aux \\u00e9v\\u00e9nements r\\u00e9els de la guerre de Troie ?\", \"tasks\": [\"RESEARCH: Study the historical accounts of the Trojan War\", \"COMPARE: Contrast the film's depiction with the historical and mythological sources\", \"IDENTIFY: List the inaccuracies found between the film and the historical/mythological events\"], \"can_i_answer\": false}),\n",
       " DatasetRow(llm=llm1, language=french, system=None, input={\"question\": \"Quelles sont les derni\\u00e8res avanc\\u00e9es en informatique quantique pour l'ann\\u00e9e en cours ?\"}, output={\"question\": \"Quelles sont les derni\\u00e8res avanc\\u00e9es en informatique quantique pour l'ann\\u00e9e en cours ?\", \"tasks\": [\"RESEARCH: Identify the latest quantum computing advancements of the current year from reliable scientific sources and publications\"], \"can_i_answer\": false}),\n",
       " DatasetRow(llm=llm1, language=french, system=None, input={\"question\": \"Qui sont les laur\\u00e9ats du Prix Nobel de Physique en 2023 ?\"}, output={\"question\": \"Qui sont les laur\\u00e9ats du Prix Nobel de Physique en 2023 ?\", \"tasks\": [\"SEARCH: Find the list of Nobel Prize in Physics laureates for the year 2023\"], \"can_i_answer\": false}),\n",
       " DatasetRow(llm=llm1, language=french, system=None, input={\"question\": \"Pour quoi Ming Li est-il connu dans le domaine de l'informatique ?\"}, output={\"question\": \"Pour quoi Ming Li est-il connu dans le domaine de l'informatique ?\", \"tasks\": [\"RESEARCH: Look up Ming Li's contributions to the field of computer science.\"], \"can_i_answer\": false}),\n",
       " DatasetRow(llm=llm1, language=french, system=None, input={\"question\": \"Quel est le pourcentage de jeunes filles adolescentes pesant 7 pierres et demi ou moins en [ins\\u00e9rer l'ann\\u00e9e ou le lieu] ?\"}, output={\"question\": \"Quel est le pourcentage de jeunes filles adolescentes pesant 7 pierres et demi ou moins en [ins\\u00e9rer l'ann\\u00e9e ou le lieu] ?\", \"tasks\": [\"IDENTIFY: Determine the specific year or location to focus the query on\", \"RESEARCH: Find statistical data on the weight of adolescent girls for the specified year or location\", \"ANALYZE: Calculate the percentage of adolescent girls weighing 7.5 stones or less based on the data\"], \"can_i_answer\": false}),\n",
       " DatasetRow(llm=llm1, language=french, system=None, input={\"question\": \"Quelles sont les derni\\u00e8res r\\u00e9actions ou critiques des fans concernant la s\\u00e9rie Gilmore Girls en 2023 ?\"}, output={\"question\": \"Quelles sont les derni\\u00e8res r\\u00e9actions ou critiques des fans concernant la s\\u00e9rie Gilmore Girls en 2023 ?\", \"tasks\": [\"SEARCH: Find recent reviews and fan reactions to Gilmore Girls in 2023\", \"ANALYZE: Synthesize the prevailing opinions from various social media platforms and forums\", \"SUMMARIZE: Present a summary of the fan sentiments and critical reception\"], \"can_i_answer\": false}),\n",
       " DatasetRow(llm=llm1, language=french, system=None, input={\"question\": \"Quels sont les meilleurs convertisseurs MIDI vers audio (WAV, MP3, etc.) gratuits en ligne sans limitations d'essai ?\"}, output={\"question\": \"Quels sont les meilleurs convertisseurs MIDI vers audio (WAV, MP3, etc.) gratuits en ligne sans limitations d'essai ?\", \"tasks\": [\"RESEARCH: Search for free online MIDI to audio converters\", \"VERIFY: Check each converter for any trial limitations\", \"LIST: Compile a list of converters that meet the criteria\"], \"can_i_answer\": false}),\n",
       " DatasetRow(llm=llm1, language=french, system=None, input={\"question\": \"Quelles sont les strat\\u00e9gies juridiques les plus efficaces pour poursuivre une interdiction de la vente de jeux vid\\u00e9o violents ?\"}, output={\"question\": \"Quelles sont les strat\\u00e9gies juridiques les plus efficaces pour poursuivre une interdiction de la vente de jeux vid\\u00e9o violents ?\", \"tasks\": [\"RESEARCH: Identify and review laws and regulations regarding the sale of violent video games\", \"ANALYZE: Examine legal precedents and cases related to the prohibition of violent video games\", \"CONSULT: Seek expert legal opinions or consult legal literature on effective legal strategies for such a ban\"], \"can_i_answer\": false}),\n",
       " DatasetRow(llm=llm1, language=french, system=None, input={\"question\": \"Qu'est-ce qui a motiv\\u00e9 Ralph Nader \\u00e0 devenir un d\\u00e9fenseur des consommateurs et quels ont \\u00e9t\\u00e9 ses premiers accomplissements dans ce r\\u00f4le ?\"}, output={\"question\": \"Qu'est-ce qui a motiv\\u00e9 Ralph Nader \\u00e0 devenir un d\\u00e9fenseur des consommateurs et quels ont \\u00e9t\\u00e9 ses premiers accomplissements dans ce r\\u00f4le ?\", \"tasks\": [\"RESEARCH: Look into Ralph Nader's early life and career to understand his motivations for becoming a consumer advocate\", \"IDENTIFY: List Ralph Nader's initial achievements in consumer protection\"], \"can_i_answer\": false}),\n",
       " DatasetRow(llm=llm1, language=french, system=None, input={\"question\": \"Quelles \\u00e9quipes sont en t\\u00eate des principales ligues sportives pour la saison en cours ?\"}, output={\"question\": \"Quelles \\u00e9quipes sont en t\\u00eate des principales ligues sportives pour la saison en cours ?\", \"tasks\": [\"RESEARCH: Locate the latest standings for major sports leagues\", \"ORGANIZE: List the teams currently leading in their respective leagues\"], \"can_i_answer\": false}),\n",
       " DatasetRow(llm=llm1, language=french, system=None, input={\"question\": \"Quelles sont les derni\\u00e8res d\\u00e9couvertes de la recherche m\\u00e9dicale en 2023 sur les causes constantes de maux de t\\u00eate ?\"}, output={\"question\": \"Quelles sont les derni\\u00e8res d\\u00e9couvertes de la recherche m\\u00e9dicale en 2023 sur les causes constantes de maux de t\\u00eate ?\", \"tasks\": [\"RESEARCH: Identify and review the latest medical research studies published in 2023 regarding the causes of headaches\", \"SUMMARIZE: Summarize the findings of these studies to provide the most recent insights on the topic\"], \"can_i_answer\": false}),\n",
       " DatasetRow(llm=llm1, language=french, system=None, input={\"question\": \"Quelles sont les derni\\u00e8res tendances de la mode pour le printemps 2023 ?\"}, output={\"question\": \"Quelles sont les derni\\u00e8res tendances de la mode pour le printemps 2023 ?\", \"tasks\": [\"RESEARCH: Look up recent fashion industry reports or articles for Spring 2023 trends\", \"ANALYZE: Identify recurring themes or items in various fashion sources\", \"SUMMARIZE: Compile the identified trends into a list or summary\"], \"can_i_answer\": false}),\n",
       " DatasetRow(llm=llm1, language=french, system=None, input={\"question\": \"Quels sont les derniers d\\u00e9veloppements dans la construction du syst\\u00e8me Hyperloop ?\"}, output={\"question\": \"Quels sont les derniers d\\u00e9veloppements dans la construction du syst\\u00e8me Hyperloop ?\", \"tasks\": [\"SEARCH: Look for the latest news articles or official press releases on Hyperloop development\", \"SUMMARIZE: Provide a summary of the most recent advancements in Hyperloop technology and construction\"], \"can_i_answer\": false}),\n",
       " DatasetRow(llm=llm1, language=french, system=None, input={\"question\": \"Quel \\u00e9tait le prix d'un timbre-poste de premi\\u00e8re classe aux \\u00c9tats-Unis en l'ann\\u00e9e 2000 ?\"}, output={\"question\": \"Quel \\u00e9tait le prix d'un timbre-poste de premi\\u00e8re classe aux \\u00c9tats-Unis en l'ann\\u00e9e 2000 ?\", \"tasks\": [\"RESEARCH: Look up historical postage stamp prices in the United States for the year 2000\"], \"can_i_answer\": false}),\n",
       " DatasetRow(llm=llm1, language=french, system=None, input={\"question\": \"Quels sont les indicateurs actuels de stabilit\\u00e9 politique au Moyen-Orient en 2023 ?\"}, output={\"question\": \"Quels sont les indicateurs actuels de stabilit\\u00e9 politique au Moyen-Orient en 2023 ?\", \"tasks\": [\"RESEARCH: Identify the major political events in the Middle East in 2023\", \"ANALYZE: Assess the impact of these events on regional stability\", \"COLLECT: Gather data from credible sources on political stability indicators such as government stability, conflict levels, and economic indicators\"], \"can_i_answer\": false}),\n",
       " DatasetRow(llm=llm1, language=french, system=None, input={\"question\": \"Quelles sont les politiques d'immigration actuelles aux \\u00c9tats-Unis ?\"}, output={\"question\": \"Quelles sont les politiques d'immigration actuelles aux \\u00c9tats-Unis ?\", \"tasks\": [\"RESEARCH: Identify the most recent immigration policies in the United States\", \"SUMMARIZE: Provide an overview of these policies with relevant details\"], \"can_i_answer\": false}),\n",
       " DatasetRow(llm=llm1, language=french, system=None, input={\"question\": \"Quelles sont les m\\u00e9thodes efficaces pour am\\u00e9liorer la circulation sanguine dans les jambes recommand\\u00e9es par les professionnels de la sant\\u00e9 ?\"}, output={\"question\": \"Quelles sont les m\\u00e9thodes efficaces pour am\\u00e9liorer la circulation sanguine dans les jambes recommand\\u00e9es par les professionnels de la sant\\u00e9 ?\", \"tasks\": [\"RESEARCH: Find studies or articles outlining methods to improve blood circulation in legs\", \"VERIFY: Ensure the methods are recommended by healthcare professionals\", \"SUMMARIZE: Provide a list of effective methods for improving leg circulation\"], \"can_i_answer\": false}),\n",
       " DatasetRow(llm=llm1, language=french, system=None, input={\"question\": \"Quel est le consensus scientifique actuel sur l'infinit\\u00e9 ou la finitude de l'univers, et que trouve-t-on au-del\\u00e0 de ses fronti\\u00e8res ?\"}, output={\"question\": \"Quel est le consensus scientifique actuel sur l'infinit\\u00e9 ou la finitude de l'univers, et que trouve-t-on au-del\\u00e0 de ses fronti\\u00e8res ?\", \"tasks\": [\"RESEARCH: Identify current scientific theories regarding the infinity or finiteness of the universe\", \"INVESTIGATE: Examine scientific studies or publications to determine the consensus among the scientific community\", \"EXPLORE: Look for information on what, if anything, lies beyond the known boundaries of the universe\"], \"can_i_answer\": false}),\n",
       " DatasetRow(llm=llm1, language=french, system=None, input={\"question\": \"Quels sont les co\\u00fbts et frais actuels pour faire publier un livre en 2023 ?\"}, output={\"question\": \"Quels sont les co\\u00fbts et frais actuels pour faire publier un livre en 2023 ?\", \"tasks\": [\"RESEARCH: Investigate the various publishing options available in 2023\", \"COMPARE: Look at the costs associated with traditional publishing versus self-publishing\", \"UPDATE: Find the most recent data on publishing costs for the current year\"], \"can_i_answer\": false}),\n",
       " DatasetRow(llm=llm1, language=french, system=None, input={\"question\": \"Quels sont les derniers records du monde d'athl\\u00e9tisme battus \\u00e0 ce jour ?\"}, output={\"question\": \"Quels sont les derniers records du monde d'athl\\u00e9tisme battus \\u00e0 ce jour ?\", \"tasks\": [\"SEARCH: Look up the most recent world records in athletics\", \"VERIFY: Check the official sources like World Athletics or reputable sports news websites for the latest updates on world records\"], \"can_i_answer\": false}),\n",
       " DatasetRow(llm=llm1, language=french, system=None, input={\"question\": \"Comment d\\u00e9termine-t-on la meilleure invention de l'histoire et quels sont les principaux concurrents actuels ?\"}, output={\"question\": \"Comment d\\u00e9termine-t-on la meilleure invention de l'histoire et quels sont les principaux concurrents actuels ?\", \"tasks\": [\"IDENTIFY: Establish criteria for what constitutes the 'best' invention\", \"RESEARCH: Compile a list of inventions commonly cited as the most impactful throughout history\", \"ANALYZE: Evaluate these inventions against the established criteria\", \"DISCUSS: Identify current leading technologies or innovations that could be considered among the greatest\"], \"can_i_answer\": false}),\n",
       " DatasetRow(llm=llm1, language=french, system=None, input={\"question\": \"Quelles sont les derni\\u00e8res statistiques sur l'adoption des \\u00e9nergies renouvelables dans le monde en 2023 ?\"}, output={\"question\": \"Quelles sont les derni\\u00e8res statistiques sur l'adoption des \\u00e9nergies renouvelables dans le monde en 2023 ?\", \"tasks\": [\"RESEARCH: Find the latest reports or statistics on global renewable energy adoption in 2023\", \"ANALYZE: Summarize the key findings from the most recent data\"], \"can_i_answer\": false}),\n",
       " DatasetRow(llm=llm1, language=french, system=None, input={\"question\": \"Quelles sont les cons\\u00e9quences fiscales pour les enfants qui h\\u00e9ritent d'une maison avec une r\\u00e9serve d'usufruit par les parents ?\"}, output={\"question\": \"Quelles sont les cons\\u00e9quences fiscales pour les enfants qui h\\u00e9ritent d'une maison avec une r\\u00e9serve d'usufruit par les parents ?\", \"tasks\": [\"RESEARCH: Investigate the current tax laws regarding inheritance in the relevant country\", \"ANALYZE: Understand the specific tax implications for inheriting property with a usufruct reserve\", \"CONSULT: Consider seeking advice from a tax professional or lawyer for personalized information\"], \"can_i_answer\": false}),\n",
       " DatasetRow(llm=llm1, language=french, system=None, input={\"question\": \"Quelles sont les derni\\u00e8res d\\u00e9couvertes de recherche sur l'efficacit\\u00e9 du traitement \\u00e9nerg\\u00e9tique Kozmic pour le soulagement de la douleur, et o\\u00f9 puis-je trouver des praticiens authentiques en Inde ?\"}, output={\"question\": \"Quelles sont les derni\\u00e8res d\\u00e9couvertes de recherche sur l'efficacit\\u00e9 du traitement \\u00e9nerg\\u00e9tique Kozmic pour le soulagement de la douleur, et o\\u00f9 puis-je trouver des praticiens authentiques en Inde ?\", \"tasks\": [\"RESEARCH: Look for recent studies or clinical trials about the effectiveness of Kozmic energetic therapy for pain relief\", \"SEARCH: Identify directories or listings for certified Kozmic therapy practitioners in India\", \"VERIFY: Ensure the practitioners are licensed or recognized by relevant authorities or organizations\"], \"can_i_answer\": false}),\n",
       " DatasetRow(llm=llm1, language=french, system=None, input={\"question\": \"Quel est le mod\\u00e8le op\\u00e9rationnel et la structure de financement des foyers de groupe ?\"}, output={\"question\": \"Quel est le mod\\u00e8le op\\u00e9rationnel et la structure de financement des foyers de groupe ?\", \"tasks\": [\"RESEARCH: Investigate the operational model of group homes\", \"RESEARCH: Look into the financing structure for group homes\"], \"can_i_answer\": false}),\n",
       " DatasetRow(llm=llm1, language=french, system=None, input={\"question\": \"Quels sont les jeux vid\\u00e9o les plus vendus actuellement sur diff\\u00e9rentes plateformes ?\"}, output={\"question\": \"Quels sont les jeux vid\\u00e9o les plus vendus actuellement sur diff\\u00e9rentes plateformes ?\", \"tasks\": [\"RESEARCH: Identify the most popular gaming platforms\", \"SEARCH: Find the current best-selling video games on each platform\", \"COMPARE: List the top-selling games across the platforms\"], \"can_i_answer\": false}),\n",
       " DatasetRow(llm=llm1, language=french, system=None, input={\"question\": \"Quels nouveaux sports ont \\u00e9t\\u00e9 ajout\\u00e9s au programme des Jeux olympiques de 2024 ?\"}, output={\"question\": \"Quels nouveaux sports ont \\u00e9t\\u00e9 ajout\\u00e9s au programme des Jeux olympiques de 2024 ?\", \"tasks\": [\"RESEARCH: Identify any official announcements or news articles regarding new sports added to the 2024 Olympic Games program\"], \"can_i_answer\": false}),\n",
       " DatasetRow(llm=llm1, language=french, system=None, input={\"question\": \"Quelles sont les derni\\u00e8res critiques concernant le co\\u00fbt et la durabilit\\u00e9 des mod\\u00e8les de chaussures de course populaires actuels ?\"}, output={\"question\": \"Quelles sont les derni\\u00e8res critiques concernant le co\\u00fbt et la durabilit\\u00e9 des mod\\u00e8les de chaussures de course populaires actuels ?\", \"tasks\": [\"RESEARCH: Look for recent reviews and articles discussing the cost and durability of current popular running shoe models\", \"ANALYZE: Summarize the findings regarding the cost and durability from the collected reviews and articles\"], \"can_i_answer\": false}),\n",
       " DatasetRow(llm=llm1, language=french, system=None, input={\"question\": \"Comment les pays s'adaptent-ils \\u00e0 la transition vers les \\u00e9nergies renouvelables ?\"}, output={\"question\": \"Comment les pays s'adaptent-ils \\u00e0 la transition vers les \\u00e9nergies renouvelables ?\", \"tasks\": [\"RESEARCH: Look up information on various countries' energy policies\", \"COMPARE: Analyze different strategies countries are using to transition to renewable energy\", \"SUMMARIZE: Provide an overview of common practices and challenges faced during the transition\"], \"can_i_answer\": false}),\n",
       " DatasetRow(llm=llm1, language=french, system=None, input={\"question\": \"Qui sont les laur\\u00e9ats des principaux prix aux Oscars 2023 ?\"}, output={\"question\": \"Qui sont les laur\\u00e9ats des principaux prix aux Oscars 2023 ?\", \"tasks\": [\"SEARCH: Find a list of the major award winners at the 2023 Oscars\"], \"can_i_answer\": false}),\n",
       " DatasetRow(llm=llm1, language=french, system=None, input={\"question\": \"Sur quelle cha\\u00eene TNA Wrestling est-il actuellement diffus\\u00e9 et \\u00e0 quelle heure ?\"}, output={\"question\": \"Sur quelle cha\\u00eene TNA Wrestling est-il actuellement diffus\\u00e9 et \\u00e0 quelle heure ?\", \"tasks\": [\"SEARCH: Find out the current broadcaster for TNA Wrestling\", \"SEARCH: Look up the schedule for TNA Wrestling broadcasts on the identified channel\"], \"can_i_answer\": false}),\n",
       " DatasetRow(llm=llm1, language=french, system=None, input={\"question\": \"Qui sont les actuels leaders du classement de la Premier League pour la saison 2022-2023 ?\"}, output={\"question\": \"Qui sont les actuels leaders du classement de la Premier League pour la saison 2022-2023 ?\", \"tasks\": [\"RESEARCH: Check the current Premier League standings for the 2022-2023 season\"], \"can_i_answer\": false}),\n",
       " DatasetRow(llm=llm1, language=french, system=None, input={\"question\": \"Quels sont les meilleurs outils en ligne pour cr\\u00e9er des diagrammes d'architecture de site web ?\"}, output={\"question\": \"Quels sont les meilleurs outils en ligne pour cr\\u00e9er des diagrammes d'architecture de site web ?\", \"tasks\": [\"RESEARCH: Identify a list of online tools for creating website architecture diagrams\", \"COMPARE: Evaluate the features and user reviews of each tool to determine which ones are considered the best\"], \"can_i_answer\": false}),\n",
       " DatasetRow(llm=llm1, language=french, system=None, input={\"question\": \"Comment aborder la discussion avec mon copain pour qu'il retire le drapeau conf\\u00e9d\\u00e9r\\u00e9 de sa chambre en raison de sa nature controvers\\u00e9e ?\"}, output={\"question\": \"Comment aborder la discussion avec mon copain pour qu'il retire le drapeau conf\\u00e9d\\u00e9r\\u00e9 de sa chambre en raison de sa nature controvers\\u00e9e ?\", \"tasks\": [\"IDENTIFY: Recognize the sensitive aspects of discussing controversial items\", \"PLAN: Develop a strategy for initiating a respectful and understanding conversation\", \"COMMUNICATE: Find the right words to express your concerns without causing offense\"], \"can_i_answer\": false}),\n",
       " DatasetRow(llm=llm1, language=french, system=None, input={\"question\": \"Quelles sont les derni\\u00e8res actualit\\u00e9s sur les voitures autonomes ?\"}, output={\"question\": \"Quelles sont les derni\\u00e8res actualit\\u00e9s sur les voitures autonomes ?\", \"tasks\": [\"SEARCH: Find recent news articles about autonomous cars\", \"SUMMARIZE: Summarize the latest developments and news on autonomous vehicles\"], \"can_i_answer\": false}),\n",
       " DatasetRow(llm=llm1, language=french, system=None, input={\"question\": \"Quelles sont les th\\u00e9ories principales actuelles dans la recherche sur la mati\\u00e8re noire ?\"}, output={\"question\": \"Quelles sont les th\\u00e9ories principales actuelles dans la recherche sur la mati\\u00e8re noire ?\", \"tasks\": [\"RESEARCH: Identify current leading theories in dark matter research from recent scientific publications or trusted sources in astrophysics\"], \"can_i_answer\": false}),\n",
       " DatasetRow(llm=llm1, language=french, system=None, input={\"question\": \"Quels sont les derniers sondages ou enqu\\u00eates de fans comparant la popularit\\u00e9 des franchises Alien et Predator ?\"}, output={\"question\": \"Quels sont les derniers sondages ou enqu\\u00eates de fans comparant la popularit\\u00e9 des franchises Alien et Predator ?\", \"tasks\": [\"SEARCH: Find the most recent fan surveys or polls comparing the popularity of the Alien and Predator franchises\", \"ANALYZE: Review the results of the surveys or polls to determine which franchise is currently more popular\"], \"can_i_answer\": false}),\n",
       " DatasetRow(llm=llm1, language=french, system=None, input={\"question\": \"Quelle est l'aptitude la plus inhabituelle trouv\\u00e9e dans le r\\u00e8gne animal ?\"}, output={\"question\": \"Quelle est l'aptitude la plus inhabituelle trouv\\u00e9e dans le r\\u00e8gne animal ?\", \"tasks\": [\"RESEARCH: Investigate various animal species to find unique abilities\", \"ANALYZE: Determine which of these abilities could be considered the most unusual based on factors such as rarity, complexity, and distinction from human capabilities\"], \"can_i_answer\": false}),\n",
       " DatasetRow(llm=llm1, language=french, system=None, input={\"question\": \"Quelle est la r\\u00e9action du public au remplacement de la peine de mort par la r\\u00e9clusion \\u00e0 perp\\u00e9tuit\\u00e9 ?\"}, output={\"question\": \"Quelle est la r\\u00e9action du public au remplacement de la peine de mort par la r\\u00e9clusion \\u00e0 perp\\u00e9tuit\\u00e9 ?\", \"tasks\": [\"SURVEY: Look for public opinion polls or surveys on the subject of replacing the death penalty with life imprisonment\", \"ANALYZE: Examine articles, studies, or reports that discuss public reaction to this change in the law\"], \"can_i_answer\": false}),\n",
       " DatasetRow(llm=llm1, language=french, system=None, input={\"question\": \"Quelles sont les opportunit\\u00e9s actuelles de subventions gouvernementales pour d\\u00e9marrer une petite entreprise dans ma r\\u00e9gion ?\"}, output={\"question\": \"Quelles sont les opportunit\\u00e9s actuelles de subventions gouvernementales pour d\\u00e9marrer une petite entreprise dans ma r\\u00e9gion ?\", \"tasks\": [\"RESEARCH: Identify the user's region\", \"SEARCH: Look for current government grants available for starting a small business in the specified region\", \"GATHER: Compile a list of available grants with their criteria and application processes\"], \"can_i_answer\": false}),\n",
       " DatasetRow(llm=llm1, language=french, system=None, input={\"question\": \"Quels sont les derniers progr\\u00e8s en mati\\u00e8re de technologie d'\\u00e9nergie renouvelable en 2023 ?\"}, output={\"question\": \"Quels sont les derniers progr\\u00e8s en mati\\u00e8re de technologie d'\\u00e9nergie renouvelable en 2023 ?\", \"tasks\": [\"RESEARCH: Investigate the latest advancements in renewable energy technology made in 2023\", \"SUMMARIZE: Provide a summary of the notable developments and breakthroughs in renewable energy\"], \"can_i_answer\": false}),\n",
       " DatasetRow(llm=llm1, language=french, system=None, input={\"question\": \"Quelles sont les derni\\u00e8res strat\\u00e9gies de politique \\u00e9trang\\u00e8re divulgu\\u00e9es par [pays sp\\u00e9cifique] pour [ann\\u00e9e en cours]?\"}, output={\"question\": \"Quelles sont les derni\\u00e8res strat\\u00e9gies de politique \\u00e9trang\\u00e8re divulgu\\u00e9es par [pays sp\\u00e9cifique] pour [ann\\u00e9e en cours]?\", \"tasks\": [\"IDENTIFY: Determine the specific country in question\", \"RESEARCH: Find the latest foreign policy strategies disclosed by that country\", \"TIME-FRAME: Ensure that the information is for the current year\"], \"can_i_answer\": false}),\n",
       " DatasetRow(llm=llm1, language=french, system=None, input={\"question\": \"Quelles sont les raisons pour lesquelles certains gouvernements se font plus d'ennemis que d'alli\\u00e9s en ne fournissant pas d'aide aux nations appauvries?\"}, output={\"question\": \"Quelles sont les raisons pour lesquelles certains gouvernements se font plus d'ennemis que d'alli\\u00e9s en ne fournissant pas d'aide aux nations appauvries?\", \"tasks\": [\"ANALYZE: Evaluate the political, economic, and social reasons that might lead a government to avoid providing aid\", \"RESEARCH: Look for historical and current examples where governments have refrained from offering aid and the consequences of such actions\", \"EXAMINE: Consider the international relations theories that explain the behavior of states in the global arena\"], \"can_i_answer\": false}),\n",
       " DatasetRow(llm=llm1, language=french, system=None, input={\"question\": \"Quelles sont les raisons de l'efficacit\\u00e9 de la propagande terroriste par rapport aux messages de lutte contre le terrorisme ?\"}, output={\"question\": \"Quelles sont les raisons de l'efficacit\\u00e9 de la propagande terroriste par rapport aux messages de lutte contre le terrorisme ?\", \"tasks\": [\"RESEARCH: Identify the methods used in terrorist propaganda\", \"ANALYZE: Explore psychological factors that may make terrorist propaganda effective\", \"COMPARE: Examine the differences between terrorist propaganda and counter-terrorism messaging strategies\", \"EVALUATE: Assess the impact of media and social platforms in the spread of terrorist propaganda\"], \"can_i_answer\": false}),\n",
       " DatasetRow(llm=llm1, language=french, system=None, input={\"question\": \"Quelle est la derni\\u00e8re mise \\u00e0 jour sur les missions d'exploration de Mars ?\"}, output={\"question\": \"Quelle est la derni\\u00e8re mise \\u00e0 jour sur les missions d'exploration de Mars ?\", \"tasks\": [\"RESEARCH: Find the latest news and updates about Mars exploration missions\"], \"can_i_answer\": false}),\n",
       " DatasetRow(llm=llm1, language=french, system=None, input={\"question\": \"Quelles sont les politiques d'immigration actuelles au Canada ?\"}, output={\"question\": \"Quelles sont les politiques d'immigration actuelles au Canada ?\", \"tasks\": [\"RESEARCH: Investigate the most recent immigration policies in Canada\", \"SUMMARIZE: Provide a summary of the findings detailing the current immigration policies\"], \"can_i_answer\": false}),\n",
       " DatasetRow(llm=llm1, language=french, system=None, input={\"question\": \"Quelles sont les nouvelles directives de l'OMS pour la prise en charge de l'hypertension en 2023 ?\"}, output={\"question\": \"Quelles sont les nouvelles directives de l'OMS pour la prise en charge de l'hypertension en 2023 ?\", \"tasks\": [\"RESEARCH: Find and review the latest World Health Organization (WHO) guidelines on hypertension management released in 2023\"], \"can_i_answer\": false}),\n",
       " DatasetRow(llm=llm1, language=french, system=None, input={\"question\": \"Quelles sont les principales technologies de maison intelligente sorties en 2023 ?\"}, output={\"question\": \"Quelles sont les principales technologies de maison intelligente sorties en 2023 ?\", \"tasks\": [\"RESEARCH: Identify and list the latest smart home technology releases in 2023\"], \"can_i_answer\": false}),\n",
       " DatasetRow(llm=llm1, language=french, system=None, input={\"question\": \"Quelle est l'histoire et l'importance du clo\\u00eetre de Monastier ?\"}, output={\"question\": \"Quelle est l'histoire et l'importance du clo\\u00eetre de Monastier ?\", \"tasks\": [\"RESEARCH: Look up the history of Monastier's cloister\", \"ANALYZE: Understand the significance of the cloister in the context of historical, cultural, or religious developments\"], \"can_i_answer\": false}),\n",
       " DatasetRow(llm=llm1, language=french, system=None, input={\"question\": \"Quelles ont \\u00e9t\\u00e9 les critiques de la r\\u00e9ponse du pr\\u00e9sident Bush \\u00e0 l'ouragan Katrina en ce qui concerne la communaut\\u00e9 afro-am\\u00e9ricaine ?\"}, output={\"question\": \"Quelles ont \\u00e9t\\u00e9 les critiques de la r\\u00e9ponse du pr\\u00e9sident Bush \\u00e0 l'ouragan Katrina en ce qui concerne la communaut\\u00e9 afro-am\\u00e9ricaine ?\", \"tasks\": [\"RESEARCH: Investigate the response of President Bush to Hurricane Katrina\", \"ANALYZE: Examine the criticisms from the perspective of the African-American community\", \"SUMMARIZE: Compile the findings into an overview of the critiques\"], \"can_i_answer\": false}),\n",
       " DatasetRow(llm=llm1, language=french, system=None, input={\"question\": \"Comment les diff\\u00e9rentes d\\u00e9mographies, y compris les Chavs, participent-elles \\u00e0 la minute de silence de deux minutes pour le jour de l'Armistice \\u00e0 11 heures le 11 novembre ?\"}, output={\"question\": \"Comment les diff\\u00e9rentes d\\u00e9mographies, y compris les Chavs, participent-elles \\u00e0 la minute de silence de deux minutes pour le jour de l'Armistice \\u00e0 11 heures le 11 novembre ?\", \"tasks\": [\"RESEARCH: Investigate how different demographics, including Chavs, observe the two-minute silence for Armistice Day\", \"SURVEY: Look for any studies or surveys that provide insight into the participation of various demographics in the Armistice Day silence\"], \"can_i_answer\": false}),\n",
       " DatasetRow(llm=llm1, language=french, system=None, input={\"question\": \"Quelles sont les derni\\u00e8res statistiques sur les ventes de v\\u00e9hicules \\u00e9lectriques en 2023 ?\"}, output={\"question\": \"Quelles sont les derni\\u00e8res statistiques sur les ventes de v\\u00e9hicules \\u00e9lectriques en 2023 ?\", \"tasks\": [\"LOCATE: Find the latest data source for electric vehicle sales in 2023\", \"ANALYZE: Extract the sales statistics and trends from the data\"], \"can_i_answer\": false}),\n",
       " DatasetRow(llm=llm1, language=french, system=None, input={\"question\": \"Quel est le taux d'int\\u00e9r\\u00eat actuel en Russie ?\"}, output={\"question\": \"Quel est le taux d'int\\u00e9r\\u00eat actuel en Russie ?\", \"tasks\": [\"RESEARCH: Find the latest official data on the current interest rate in Russia from a reliable financial source or the central bank of Russia\"], \"can_i_answer\": false})]"
      ]
     },
     "execution_count": 16,
     "metadata": {},
     "output_type": "execute_result"
    }
   ],
   "source": [
    "from datasets import Dataset\n",
    "\n",
    "LLMDataset.from_dataset(Dataset.from_parquet('test_llm_dataset.parquet'), LLMType.LLM3).rows"
   ]
  },
  {
   "cell_type": "code",
   "execution_count": 6,
   "metadata": {},
   "outputs": [],
   "source": [
    "d3 = d.get_llm_type_rows(LLMType.LLM3)"
   ]
  },
  {
   "cell_type": "code",
   "execution_count": null,
   "metadata": {},
   "outputs": [],
   "source": []
  },
  {
   "cell_type": "code",
   "execution_count": null,
   "metadata": {},
   "outputs": [],
   "source": [
    "d.get_llm_type_rows(LLMType.LLM3).rows"
   ]
  },
  {
   "cell_type": "code",
   "execution_count": 3,
   "metadata": {},
   "outputs": [
    {
     "data": {
      "text/plain": [
       "LLM3DatasetRow(llm=llm3, system=None, input=eschema=[ExtractSchemaEntry(name='winner_names', type='array', description='List of the most recent Nobel Prize winners in Physics.')] context=[{'awards_details': \"Il Premio Nobel per la Fisica del 2023 è stato assegnato a Sofia Moretti e Marco Bianchi per le loro scoperte rivoluzionarie nel campo della fisica quantistica. La loro ricerca ha aperto nuove strade nella comprensione dell'entanglement quantistico, che potrebbe avere applicazioni significative nella tecnologia di comunicazione e nella computazione quantistica.\"}], output={'winner_names': ['Sofia Moretti', 'Marco Bianchi']})"
      ]
     },
     "execution_count": 3,
     "metadata": {},
     "output_type": "execute_result"
    }
   ],
   "source": [
    "from models.llm_dataset import LLM3DatasetRow, ExtractorInput\n",
    "\n",
    "LLM3DatasetRow(**d.get_llm(LLMType.LLM3).rows[0].model_dump(mode=\"json\"))"
   ]
  },
  {
   "cell_type": "code",
   "execution_count": 30,
   "metadata": {},
   "outputs": [
    {
     "data": {
      "text/plain": [
       "FieldInfo(annotation=Union[ExtractorInput, NoneType], required=True)"
      ]
     },
     "execution_count": 30,
     "metadata": {},
     "output_type": "execute_result"
    }
   ],
   "source": [
    "LLM3DatasetRow.model_fields['input']"
   ]
  },
  {
   "cell_type": "code",
   "execution_count": 27,
   "metadata": {},
   "outputs": [
    {
     "data": {
      "text/plain": [
       "{'uid': 'bd042193-de54-4b62-8048-8d43c1ae8151',\n",
       " 'llm': 'llm3',\n",
       " 'language': 'italian',\n",
       " 'system': None,\n",
       " 'input': {'schema': [{'name': 'winner_names',\n",
       "    'type': 'array',\n",
       "    'description': 'List of the most recent Nobel Prize winners in Physics.'}],\n",
       "  'context': [{'awards_details': \"Il Premio Nobel per la Fisica del 2023 è stato assegnato a Sofia Moretti e Marco Bianchi per le loro scoperte rivoluzionarie nel campo della fisica quantistica. La loro ricerca ha aperto nuove strade nella comprensione dell'entanglement quantistico, che potrebbe avere applicazioni significative nella tecnologia di comunicazione e nella computazione quantistica.\"}]},\n",
       " 'output': {'winner_names': ['Sofia Moretti', 'Marco Bianchi']}}"
      ]
     },
     "execution_count": 27,
     "metadata": {},
     "output_type": "execute_result"
    }
   ],
   "source": [
    "d.get_llm(LLMType.LLM3).rows[0].model_dump(mode=\"json\")"
   ]
  },
  {
   "cell_type": "code",
   "execution_count": 33,
   "metadata": {},
   "outputs": [
    {
     "ename": "TypeError",
     "evalue": "isinstance() arg 2 must be a type, a tuple of types, or a union",
     "output_type": "error",
     "traceback": [
      "\u001b[0;31m---------------------------------------------------------------------------\u001b[0m",
      "\u001b[0;31mTypeError\u001b[0m                                 Traceback (most recent call last)",
      "Cell \u001b[0;32mIn[33], line 4\u001b[0m\n\u001b[1;32m      1\u001b[0m x \u001b[38;5;241m=\u001b[39m \u001b[38;5;124m'\u001b[39m\u001b[38;5;124ms\u001b[39m\u001b[38;5;124m'\u001b[39m\n\u001b[1;32m      2\u001b[0m y \u001b[38;5;241m=\u001b[39m \u001b[38;5;241m1\u001b[39m\n\u001b[0;32m----> 4\u001b[0m \u001b[38;5;28;43misinstance\u001b[39;49m\u001b[43m(\u001b[49m\u001b[43mx\u001b[49m\u001b[43m,\u001b[49m\u001b[43m \u001b[49m\u001b[43m(\u001b[49m\u001b[43my\u001b[49m\u001b[43m)\u001b[49m\u001b[43m)\u001b[49m\n",
      "\u001b[0;31mTypeError\u001b[0m: isinstance() arg 2 must be a type, a tuple of types, or a union"
     ]
    }
   ],
   "source": [
    "x = 's'\n",
    "y = 1\n",
    "\n",
    "isinstance(x, type(y))"
   ]
  }
 ],
 "metadata": {
  "kernelspec": {
   "display_name": ".venv",
   "language": "python",
   "name": "python3"
  },
  "language_info": {
   "codemirror_mode": {
    "name": "ipython",
    "version": 3
   },
   "file_extension": ".py",
   "mimetype": "text/x-python",
   "name": "python",
   "nbconvert_exporter": "python",
   "pygments_lexer": "ipython3",
   "version": "3.10.12"
  }
 },
 "nbformat": 4,
 "nbformat_minor": 2
}
